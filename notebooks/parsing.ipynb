{
 "cells": [
  {
   "cell_type": "code",
   "execution_count": 21,
   "metadata": {
    "collapsed": false
   },
   "outputs": [],
   "source": [
    "import argparse\n",
    "import logging\n",
    "import os\n",
    "import sys\n",
    "import json\n",
    "\n",
    "\n",
    "from toolz.curried import keyfilter\n",
    "\n",
    "from openfisca_parsers import exceptions, loading, module_pass, class_pass, function_pass"
   ]
  },
  {
   "cell_type": "code",
   "execution_count": 31,
   "metadata": {
    "collapsed": false
   },
   "outputs": [
    {
     "data": {
      "text/plain": [
       "<module 'openfisca_parsers.function_pass' from '/data/projects/openfisca/openfisca-parsers/openfisca_parsers/function_pass.py'>"
      ]
     },
     "execution_count": 31,
     "metadata": {},
     "output_type": "execute_result"
    }
   ],
   "source": [
    "import importlib\n",
    "\n",
    "importlib.reload(loading)\n",
    "importlib.reload(exceptions)\n",
    "importlib.reload(module_pass)\n",
    "importlib.reload(class_pass)\n",
    "importlib.reload(function_pass)\n"
   ]
  },
  {
   "cell_type": "markdown",
   "metadata": {},
   "source": [
    "# Loading"
   ]
  },
  {
   "cell_type": "code",
   "execution_count": 4,
   "metadata": {
    "collapsed": false
   },
   "outputs": [],
   "source": [
    "redbaron_trees = loading.load()"
   ]
  },
  {
   "cell_type": "markdown",
   "metadata": {
    "collapsed": true
   },
   "source": [
    "# Module parsing"
   ]
  },
  {
   "cell_type": "code",
   "execution_count": 13,
   "metadata": {
    "collapsed": false
   },
   "outputs": [],
   "source": [
    "parsed_modules = module_pass.parse(redbaron_trees)"
   ]
  },
  {
   "cell_type": "markdown",
   "metadata": {},
   "source": [
    "# Class parsing"
   ]
  },
  {
   "cell_type": "code",
   "execution_count": 19,
   "metadata": {
    "collapsed": false
   },
   "outputs": [],
   "source": [
    "parsed_classes = class_pass.parse(parsed_modules)"
   ]
  },
  {
   "cell_type": "markdown",
   "metadata": {},
   "source": [
    "# Function parsing"
   ]
  },
  {
   "cell_type": "code",
   "execution_count": 43,
   "metadata": {
    "collapsed": false,
    "scrolled": true
   },
   "outputs": [
    {
     "name": "stdout",
     "output_type": "stream",
     "text": [
      "*** Visiting module prelevements_obligatoires/impot_revenu/ir.py\n",
      "Visiting class rfr_rvcm to parse its function(s)\n",
      "Visiting function function\n",
      "Visiting class enfant_majeur_celibataire_sans_enfant to parse its function(s)\n",
      "Visiting function function\n",
      "Visiting class indu_plaf_abat_pen to parse its function(s)\n",
      "Visiting function function\n",
      "Visiting class revenu_assimile_salaire_apres_abattements to parse its function(s)\n",
      "Visiting function function\n",
      "Visiting class ir_brut to parse its function(s)\n",
      "Visiting function function\n",
      "Visiting class revenu_activite to parse its function(s)\n",
      "Visiting function function\n",
      "Visiting class retraite_titre_onereux_net_declarant1 to parse its function(s)\n",
      "Visiting class enfant_a_charge to parse its function(s)\n",
      "Visiting function function\n",
      "Visiting class cehr to parse its function(s)\n",
      "Visiting function function\n",
      "Visiting class ip_net to parse its function(s)\n",
      "Visiting function function\n",
      "Visiting class rev_cat to parse its function(s)\n",
      "Visiting function function\n",
      "Visiting class microsocial to parse its function(s)\n",
      "Visiting function function\n",
      "Visiting class rpns to parse its function(s)\n",
      "Visiting function function\n",
      "Visiting class celibataire_ou_divorce to parse its function(s)\n",
      "Visiting function function\n",
      "Visiting class nb_adult to parse its function(s)\n",
      "Visiting function function\n",
      "Visiting class rev_cat_rvcm to parse its function(s)\n",
      "Visiting function function_20020101_20041231\n",
      "Visiting function function_20050101_20121231\n",
      "Visiting function function_20130101_20151231\n",
      "Visiting class ppe_base to parse its function(s)\n",
      "Visiting function function\n",
      "Visiting class retraite_titre_onereux_declarant1 to parse its function(s)\n",
      "Visiting class revenu_activite_non_salariee to parse its function(s)\n",
      "Visiting function function\n",
      "Visiting class abattement_salaires_pensions to parse its function(s)\n",
      "Visiting function function\n",
      "Visiting class avf to parse its function(s)\n",
      "Visiting function function\n",
      "Visiting class rpns_mvct to parse its function(s)\n",
      "Visiting function function\n",
      "Visiting class defncn to parse its function(s)\n",
      "Visiting function function\n",
      "Visiting class decote_gain_fiscal to parse its function(s)\n",
      "Visiting function function\n",
      "Visiting class rnc to parse its function(s)\n",
      "Visiting function function\n",
      "Visiting class maries_ou_pacses to parse its function(s)\n",
      "Visiting function function\n",
      "Visiting class nbJ to parse its function(s)\n",
      "Visiting class nbptr to parse its function(s)\n",
      "Visiting function function\n",
      "Visiting class ir_ss_qf to parse its function(s)\n",
      "Visiting function function\n",
      "Visiting class pensions_alimentaires_versees_declarant1 to parse its function(s)\n",
      "Visiting class rev_cat_rfon to parse its function(s)\n",
      "Visiting function function\n",
      "Visiting class rpns_mvlt to parse its function(s)\n",
      "Visiting function function\n",
      "Visiting class irpp to parse its function(s)\n",
      "Visiting function function\n",
      "Visiting class ppe_coef to parse its function(s)\n",
      "Visiting function function\n",
      "Visiting class rev_cat_rpns to parse its function(s)\n",
      "Visiting function function\n",
      "Visiting class csg_deduc_patrimoine_simulated to parse its function(s)\n",
      "Visiting function function\n",
      "Visiting class csg_deduc_patrimoine to parse its function(s)\n",
      "Visiting function function\n",
      "Visiting class plus_values to parse its function(s)\n",
      "Visiting function function_20070101_20071231\n",
      "Visiting function function_20130101_20151231\n",
      "Visiting function function_20120101_20121231\n",
      "Visiting function function_20080101_20111231\n",
      "Visiting class avantage_qf to parse its function(s)\n",
      "Visiting function function\n",
      "Visiting class defmeu to parse its function(s)\n",
      "Visiting function function\n",
      "Visiting class ppe to parse its function(s)\n",
      "Visiting function function\n",
      "Visiting class ric to parse its function(s)\n",
      "Visiting function function\n",
      "Visiting class taux_effectif to parse its function(s)\n",
      "Visiting function function\n",
      "Visiting class rpns_individu to parse its function(s)\n",
      "Visiting function function\n",
      "Visiting class nb_pac to parse its function(s)\n",
      "Visiting function function\n",
      "Visiting class ppe_elig_individu to parse its function(s)\n",
      "Visiting function function\n",
      "Visiting class rag to parse its function(s)\n",
      "Visiting function function\n",
      "Visiting class revenu_assimile_salaire to parse its function(s)\n",
      "Visiting function function\n",
      "Visiting class nbH to parse its function(s)\n",
      "Visiting function function\n",
      "Visiting class imp_lib to parse its function(s)\n",
      "Visiting function function_20080101_20121231\n",
      "Visiting function function_20020101_20071231\n",
      "Visiting class ppe_coef_tp to parse its function(s)\n",
      "Visiting function function\n",
      "Visiting class ppe_rev to parse its function(s)\n",
      "Visiting function function\n",
      "Visiting class traitements_salaires_pensions_rentes to parse its function(s)\n",
      "Visiting function function\n",
      "Visiting class age_en_mois to parse its function(s)\n",
      "Visiting function function\n"
     ]
    },
    {
     "ename": "NotImplementedParsingError",
     "evalue": "Unknown self op holder.",
     "output_type": "error",
     "traceback": [
      "\u001b[0;31m---------------------------------------------------------------------------\u001b[0m",
      "\u001b[0;31mNotImplementedParsingError\u001b[0m                Traceback (most recent call last)",
      "\u001b[0;32m<ipython-input-43-dd479919e387>\u001b[0m in \u001b[0;36m<module>\u001b[0;34m()\u001b[0m\n\u001b[1;32m      1\u001b[0m \u001b[0mimportlib\u001b[0m\u001b[0;34m.\u001b[0m\u001b[0mreload\u001b[0m\u001b[0;34m(\u001b[0m\u001b[0mfunction_pass\u001b[0m\u001b[0;34m)\u001b[0m\u001b[0;34m\u001b[0m\u001b[0m\n\u001b[0;32m----> 2\u001b[0;31m \u001b[0mparsed_classes\u001b[0m \u001b[0;34m=\u001b[0m \u001b[0mfunction_pass\u001b[0m\u001b[0;34m.\u001b[0m\u001b[0mparse\u001b[0m\u001b[0;34m(\u001b[0m\u001b[0mparsed_modules\u001b[0m\u001b[0;34m,\u001b[0m \u001b[0mparsed_classes\u001b[0m\u001b[0;34m)\u001b[0m\u001b[0;34m\u001b[0m\u001b[0m\n\u001b[0m",
      "\u001b[0;32m/data/projects/openfisca/openfisca-parsers/openfisca_parsers/function_pass.py\u001b[0m in \u001b[0;36mparse\u001b[0;34m(parsed_modules, parsed_classes)\u001b[0m\n\u001b[1;32m    728\u001b[0m                 \u001b[0;32mtry\u001b[0m\u001b[0;34m:\u001b[0m\u001b[0;34m\u001b[0m\u001b[0m\n\u001b[1;32m    729\u001b[0m                     \u001b[0;32mfor\u001b[0m \u001b[0mrbnode\u001b[0m \u001b[0;32min\u001b[0m \u001b[0mfn\u001b[0m\u001b[0;34m[\u001b[0m\u001b[0;34m'instructions'\u001b[0m\u001b[0;34m]\u001b[0m\u001b[0;34m:\u001b[0m\u001b[0;34m\u001b[0m\u001b[0m\n\u001b[0;32m--> 730\u001b[0;31m                         \u001b[0mvisit_function_rbnode\u001b[0m\u001b[0;34m(\u001b[0m\u001b[0mrbnode\u001b[0m\u001b[0;34m,\u001b[0m \u001b[0ms\u001b[0m\u001b[0;34m)\u001b[0m\u001b[0;34m\u001b[0m\u001b[0m\n\u001b[0m\u001b[1;32m    731\u001b[0m                 \u001b[0;32mexcept\u001b[0m \u001b[0mFunctionTooComplexException\u001b[0m \u001b[0;32mas\u001b[0m \u001b[0me\u001b[0m\u001b[0;34m:\u001b[0m\u001b[0;34m\u001b[0m\u001b[0m\n\u001b[1;32m    732\u001b[0m                     functions_too_complex.append({\n",
      "\u001b[0;32m/data/projects/openfisca/openfisca-parsers/openfisca_parsers/function_pass.py\u001b[0m in \u001b[0;36mvisit_function_rbnode\u001b[0;34m(rbnode, s)\u001b[0m\n\u001b[1;32m     15\u001b[0m                 \u001b[0mtype\u001b[0m\u001b[0;34m=\u001b[0m\u001b[0mrbnode\u001b[0m\u001b[0;34m.\u001b[0m\u001b[0mtype\u001b[0m\u001b[0;34m,\u001b[0m\u001b[0;34m\u001b[0m\u001b[0m\n\u001b[1;32m     16\u001b[0m                 ), rbnode, s)\n\u001b[0;32m---> 17\u001b[0;31m     \u001b[0mofnode\u001b[0m \u001b[0;34m=\u001b[0m \u001b[0mvisitor\u001b[0m\u001b[0;34m(\u001b[0m\u001b[0mrbnode\u001b[0m\u001b[0;34m,\u001b[0m \u001b[0ms\u001b[0m\u001b[0;34m)\u001b[0m\u001b[0;34m\u001b[0m\u001b[0m\n\u001b[0m\u001b[1;32m     18\u001b[0m \u001b[0;34m\u001b[0m\u001b[0m\n\u001b[1;32m     19\u001b[0m     \u001b[0;32mif\u001b[0m \u001b[0ms\u001b[0m\u001b[0;34m[\u001b[0m\u001b[0;34m'keyword'\u001b[0m\u001b[0;34m]\u001b[0m \u001b[0;34m==\u001b[0m \u001b[0;34m'expression'\u001b[0m\u001b[0;34m:\u001b[0m\u001b[0;34m\u001b[0m\u001b[0m\n",
      "\u001b[0;32m/data/projects/openfisca/openfisca-parsers/openfisca_parsers/function_pass.py\u001b[0m in \u001b[0;36mvisit_function_assignment\u001b[0;34m(rbnode, s)\u001b[0m\n\u001b[1;32m     41\u001b[0m         \u001b[0;34m'auxiliary_functions'\u001b[0m\u001b[0;34m:\u001b[0m \u001b[0ms\u001b[0m\u001b[0;34m[\u001b[0m\u001b[0;34m'auxiliary_functions'\u001b[0m\u001b[0;34m]\u001b[0m\u001b[0;34m,\u001b[0m\u001b[0;34m\u001b[0m\u001b[0m\n\u001b[1;32m     42\u001b[0m     }\n\u001b[0;32m---> 43\u001b[0;31m     \u001b[0mvisit_function_rbnode\u001b[0m\u001b[0;34m(\u001b[0m\u001b[0mrbnode\u001b[0m\u001b[0;34m.\u001b[0m\u001b[0mvalue\u001b[0m\u001b[0;34m,\u001b[0m \u001b[0mchild_state\u001b[0m\u001b[0;34m)\u001b[0m\u001b[0;34m\u001b[0m\u001b[0m\n\u001b[0m\u001b[1;32m     44\u001b[0m     \u001b[0;32mif\u001b[0m \u001b[0;34m'var_tmp'\u001b[0m \u001b[0;32mnot\u001b[0m \u001b[0;32min\u001b[0m \u001b[0mchild_state\u001b[0m\u001b[0;34m:\u001b[0m\u001b[0;34m\u001b[0m\u001b[0m\n\u001b[1;32m     45\u001b[0m         \u001b[0;32mraise\u001b[0m \u001b[0mParsingError\u001b[0m\u001b[0;34m(\u001b[0m\u001b[0;34m'No var_tmp after expression parsing'\u001b[0m\u001b[0;34m,\u001b[0m \u001b[0mrbnode\u001b[0m\u001b[0;34m,\u001b[0m \u001b[0ms\u001b[0m\u001b[0;34m)\u001b[0m\u001b[0;34m\u001b[0m\u001b[0m\n",
      "\u001b[0;32m/data/projects/openfisca/openfisca-parsers/openfisca_parsers/function_pass.py\u001b[0m in \u001b[0;36mvisit_function_rbnode\u001b[0;34m(rbnode, s)\u001b[0m\n\u001b[1;32m     15\u001b[0m                 \u001b[0mtype\u001b[0m\u001b[0;34m=\u001b[0m\u001b[0mrbnode\u001b[0m\u001b[0;34m.\u001b[0m\u001b[0mtype\u001b[0m\u001b[0;34m,\u001b[0m\u001b[0;34m\u001b[0m\u001b[0m\n\u001b[1;32m     16\u001b[0m                 ), rbnode, s)\n\u001b[0;32m---> 17\u001b[0;31m     \u001b[0mofnode\u001b[0m \u001b[0;34m=\u001b[0m \u001b[0mvisitor\u001b[0m\u001b[0;34m(\u001b[0m\u001b[0mrbnode\u001b[0m\u001b[0;34m,\u001b[0m \u001b[0ms\u001b[0m\u001b[0;34m)\u001b[0m\u001b[0;34m\u001b[0m\u001b[0m\n\u001b[0m\u001b[1;32m     18\u001b[0m \u001b[0;34m\u001b[0m\u001b[0m\n\u001b[1;32m     19\u001b[0m     \u001b[0;32mif\u001b[0m \u001b[0ms\u001b[0m\u001b[0;34m[\u001b[0m\u001b[0;34m'keyword'\u001b[0m\u001b[0;34m]\u001b[0m \u001b[0;34m==\u001b[0m \u001b[0;34m'expression'\u001b[0m\u001b[0;34m:\u001b[0m\u001b[0;34m\u001b[0m\u001b[0m\n",
      "\u001b[0;32m/data/projects/openfisca/openfisca-parsers/openfisca_parsers/function_pass.py\u001b[0m in \u001b[0;36mvisit_function_atomtrailers\u001b[0;34m(rbnode, s)\u001b[0m\n\u001b[1;32m     65\u001b[0m             \u001b[0;34m'atomtrailers_base'\u001b[0m\u001b[0;34m:\u001b[0m \u001b[0mbase\u001b[0m\u001b[0;34m,\u001b[0m\u001b[0;34m\u001b[0m\u001b[0m\n\u001b[1;32m     66\u001b[0m         }\n\u001b[0;32m---> 67\u001b[0;31m         \u001b[0mvisit_function_rbnode\u001b[0m\u001b[0;34m(\u001b[0m\u001b[0mrbnode\u001b[0m\u001b[0;34m.\u001b[0m\u001b[0mvalue\u001b[0m\u001b[0;34m[\u001b[0m\u001b[0mi\u001b[0m\u001b[0;34m]\u001b[0m\u001b[0;34m,\u001b[0m \u001b[0mchild_state\u001b[0m\u001b[0;34m)\u001b[0m\u001b[0;34m\u001b[0m\u001b[0m\n\u001b[0m\u001b[1;32m     68\u001b[0m         \u001b[0mbase\u001b[0m \u001b[0;34m=\u001b[0m \u001b[0mchild_state\u001b[0m\u001b[0;34m[\u001b[0m\u001b[0;34m'atomtrailers_new_base'\u001b[0m\u001b[0;34m]\u001b[0m\u001b[0;34m\u001b[0m\u001b[0m\n\u001b[1;32m     69\u001b[0m \u001b[0;34m\u001b[0m\u001b[0m\n",
      "\u001b[0;32m/data/projects/openfisca/openfisca-parsers/openfisca_parsers/function_pass.py\u001b[0m in \u001b[0;36mvisit_function_rbnode\u001b[0;34m(rbnode, s)\u001b[0m\n\u001b[1;32m     15\u001b[0m                 \u001b[0mtype\u001b[0m\u001b[0;34m=\u001b[0m\u001b[0mrbnode\u001b[0m\u001b[0;34m.\u001b[0m\u001b[0mtype\u001b[0m\u001b[0;34m,\u001b[0m\u001b[0;34m\u001b[0m\u001b[0m\n\u001b[1;32m     16\u001b[0m                 ), rbnode, s)\n\u001b[0;32m---> 17\u001b[0;31m     \u001b[0mofnode\u001b[0m \u001b[0;34m=\u001b[0m \u001b[0mvisitor\u001b[0m\u001b[0;34m(\u001b[0m\u001b[0mrbnode\u001b[0m\u001b[0;34m,\u001b[0m \u001b[0ms\u001b[0m\u001b[0;34m)\u001b[0m\u001b[0;34m\u001b[0m\u001b[0m\n\u001b[0m\u001b[1;32m     18\u001b[0m \u001b[0;34m\u001b[0m\u001b[0m\n\u001b[1;32m     19\u001b[0m     \u001b[0;32mif\u001b[0m \u001b[0ms\u001b[0m\u001b[0;34m[\u001b[0m\u001b[0;34m'keyword'\u001b[0m\u001b[0;34m]\u001b[0m \u001b[0;34m==\u001b[0m \u001b[0;34m'expression'\u001b[0m\u001b[0;34m:\u001b[0m\u001b[0;34m\u001b[0m\u001b[0m\n",
      "\u001b[0;32m/data/projects/openfisca/openfisca-parsers/openfisca_parsers/function_pass.py\u001b[0m in \u001b[0;36mvisit_function_name\u001b[0;34m(rbnode, s)\u001b[0m\n\u001b[1;32m    275\u001b[0m                 \u001b[0;32mreturn\u001b[0m\u001b[0;34m\u001b[0m\u001b[0m\n\u001b[1;32m    276\u001b[0m \u001b[0;34m\u001b[0m\u001b[0m\n\u001b[0;32m--> 277\u001b[0;31m             \u001b[0;32mraise\u001b[0m \u001b[0mNotImplementedParsingError\u001b[0m\u001b[0;34m(\u001b[0m\u001b[0;34m'Unknown self op {}.'\u001b[0m\u001b[0;34m.\u001b[0m\u001b[0mformat\u001b[0m\u001b[0;34m(\u001b[0m\u001b[0mself_op\u001b[0m\u001b[0;34m)\u001b[0m\u001b[0;34m,\u001b[0m \u001b[0mrbnode\u001b[0m\u001b[0;34m,\u001b[0m \u001b[0ms\u001b[0m\u001b[0;34m)\u001b[0m\u001b[0;34m\u001b[0m\u001b[0m\n\u001b[0m\u001b[1;32m    278\u001b[0m \u001b[0;34m\u001b[0m\u001b[0m\n\u001b[1;32m    279\u001b[0m         \u001b[0;32mif\u001b[0m \u001b[0mbase\u001b[0m\u001b[0;34m[\u001b[0m\u001b[0;34m'type'\u001b[0m\u001b[0;34m]\u001b[0m \u001b[0;34m==\u001b[0m \u001b[0;34m'parameter'\u001b[0m\u001b[0;34m:\u001b[0m\u001b[0;34m\u001b[0m\u001b[0m\n",
      "\u001b[0;31mNotImplementedParsingError\u001b[0m: Unknown self op holder."
     ]
    }
   ],
   "source": [
    "importlib.reload(function_pass)\n",
    "parsed_classes = function_pass.parse(parsed_modules, parsed_classes)"
   ]
  },
  {
   "cell_type": "markdown",
   "metadata": {},
   "source": [
    "# Debugging"
   ]
  },
  {
   "cell_type": "code",
   "execution_count": 44,
   "metadata": {
    "collapsed": false
   },
   "outputs": [
    {
     "data": {
      "text/html": [
       "<div class=\"highlight\" style=\"background: #f8f8f8\"><pre style=\"line-height: 125%\"><span></span>holder\n",
       "</pre></div>\n"
      ],
      "text/plain": [
       "<NameNode path=[76, 'value', 10, 'value', 2, 'value', 'value', 2], \"holder\" 140127652633736, on AtomtrailersNode 140127652632448>"
      ]
     },
     "execution_count": 44,
     "metadata": {},
     "output_type": "execute_result"
    }
   ],
   "source": [
    "exceptions.angry_rbnode"
   ]
  },
  {
   "cell_type": "code",
   "execution_count": null,
   "metadata": {
    "collapsed": true
   },
   "outputs": [],
   "source": []
  },
  {
   "cell_type": "code",
   "execution_count": null,
   "metadata": {
    "collapsed": true
   },
   "outputs": [],
   "source": []
  },
  {
   "cell_type": "code",
   "execution_count": null,
   "metadata": {
    "collapsed": true
   },
   "outputs": [],
   "source": []
  },
  {
   "cell_type": "code",
   "execution_count": null,
   "metadata": {
    "collapsed": false
   },
   "outputs": [],
   "source": [
    "parsed_functions_counter / (parsed_functions_counter + len(functions_too_complex))"
   ]
  },
  {
   "cell_type": "code",
   "execution_count": null,
   "metadata": {
    "collapsed": true
   },
   "outputs": [],
   "source": []
  }
 ],
 "metadata": {
  "kernelspec": {
   "display_name": "Python 3",
   "language": "python",
   "name": "python3"
  },
  "language_info": {
   "codemirror_mode": {
    "name": "ipython",
    "version": 3
   },
   "file_extension": ".py",
   "mimetype": "text/x-python",
   "name": "python",
   "nbconvert_exporter": "python",
   "pygments_lexer": "ipython3",
   "version": "3.4.3"
  }
 },
 "nbformat": 4,
 "nbformat_minor": 0
}
