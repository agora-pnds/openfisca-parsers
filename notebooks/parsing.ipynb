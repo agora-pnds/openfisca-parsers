{
 "cells": [
  {
   "cell_type": "code",
   "execution_count": null,
   "metadata": {
    "collapsed": false
   },
   "outputs": [],
   "source": [
    "import argparse\n",
    "import logging\n",
    "import os\n",
    "import sys\n",
    "\n",
    "from redbaron import RedBaron\n",
    "\n",
    "from toolz.curried import keyfilter"
   ]
  },
  {
   "cell_type": "markdown",
   "metadata": {},
   "source": [
    "# Loading"
   ]
  },
  {
   "cell_type": "code",
   "execution_count": null,
   "metadata": {
    "collapsed": false
   },
   "outputs": [],
   "source": [
    "source_dir = '../../openfisca-france/openfisca_france/model/'\n",
    "filenames = []\n",
    "\n",
    "for root, directories, files in os.walk(source_dir):    \n",
    "    for filename in files:\n",
    "        complete_filename = os.path.join(root, filename)\n",
    "        assert complete_filename[:len(source_dir)] == source_dir\n",
    "        complete_filename = complete_filename[len(source_dir):]\n",
    "        filenames.append(complete_filename)\n",
    "filenames"
   ]
  },
  {
   "cell_type": "code",
   "execution_count": null,
   "metadata": {
    "collapsed": false
   },
   "outputs": [],
   "source": [
    "filenames.remove('base.py')\n",
    "filenames.remove('datatrees.py')\n",
    "filenames.remove('prelevements_obligatoires/prelevements_sociaux/cotisations_sociales/preprocessing.py')"
   ]
  },
  {
   "cell_type": "code",
   "execution_count": null,
   "metadata": {
    "collapsed": false
   },
   "outputs": [],
   "source": [
    "redbaron_trees = {}\n",
    "for filename in filenames:\n",
    "    with open(source_dir + filename) as source_file:\n",
    "        source_code = source_file.read()\n",
    "    red = RedBaron(source_code)\n",
    "    redbaron_trees[filename] = red\n",
    "    print('{} parsed'.format(filename))"
   ]
  },
  {
   "cell_type": "markdown",
   "metadata": {},
   "source": [
    "# Custom exceptions"
   ]
  },
  {
   "cell_type": "code",
   "execution_count": null,
   "metadata": {
    "collapsed": true
   },
   "outputs": [],
   "source": [
    "angry_rbnode = None\n",
    "angry_state = None"
   ]
  },
  {
   "cell_type": "code",
   "execution_count": null,
   "metadata": {
    "collapsed": false
   },
   "outputs": [],
   "source": [
    "class ParsingException(Exception):\n",
    "    def __init__(self, message, rbnode, s):\n",
    "        global angry_rbnode\n",
    "        global angry_state\n",
    "\n",
    "        angry_rbnode = rbnode\n",
    "        angry_state = s\n",
    "\n",
    "        super(ParsingException, self).__init__(message)"
   ]
  },
  {
   "cell_type": "code",
   "execution_count": null,
   "metadata": {
    "collapsed": true
   },
   "outputs": [],
   "source": [
    "class NotImplementedParsingError(ParsingException):\n",
    "    pass"
   ]
  },
  {
   "cell_type": "code",
   "execution_count": null,
   "metadata": {
    "collapsed": true
   },
   "outputs": [],
   "source": [
    "class AssertionParsingError(ParsingException):\n",
    "    pass"
   ]
  },
  {
   "cell_type": "code",
   "execution_count": null,
   "metadata": {
    "collapsed": true
   },
   "outputs": [],
   "source": [
    "def my_assert(cond, rbnode, s):\n",
    "    if cond:\n",
    "        return\n",
    "    \n",
    "    raise AssertionParsingError('', rbnode, s)"
   ]
  },
  {
   "cell_type": "markdown",
   "metadata": {},
   "source": [
    "# Helpers"
   ]
  },
  {
   "cell_type": "code",
   "execution_count": null,
   "metadata": {
    "collapsed": false
   },
   "outputs": [],
   "source": [
    "import unicodedata\n",
    "\n",
    "def rbnode_to_exception(rbnode):\n",
    "    '''Because exceptions are ASCII only in python2'''\n",
    "    str1 = rbnode.dumps() # unicode string wrongly known as 'str'\n",
    "    str2 = unicode(str1, 'utf-8') # unicode string as unicode\n",
    "    str3 = unicodedata.normalize('NFKD', str2).encode('ascii', 'ignore') # ignore special chars\n",
    "    \n",
    "    return str3"
   ]
  },
  {
   "cell_type": "code",
   "execution_count": null,
   "metadata": {
    "collapsed": true
   },
   "outputs": [],
   "source": [
    "def parse_date(atomtrailer, s):\n",
    "    my_assert(atomtrailer.type == 'atomtrailers', atomtrailer, s)\n",
    "    my_assert(len(atomtrailer.value) == 2, atomtrailer, s)\n",
    "    my_assert(atomtrailer.value[0].type == 'name', atomtrailer, s)\n",
    "    my_assert(atomtrailer.value[0].value == 'date', atomtrailer, s)\n",
    "    call_node = atomtrailer.value[1]\n",
    "    my_assert(call_node.type == 'call', atomtrailer, s)\n",
    "    my_assert(len(call_node.value) == 3, atomtrailer, s)\n",
    "    my_assert(call_node.value[0].type == 'call_argument', atomtrailer, s)\n",
    "    my_assert(not call_node.value[0].target, atomtrailer, s)\n",
    "    my_assert(call_node.value[0].value.type == 'int', atomtrailer, s)\n",
    "    year = call_node.value[0].value.value\n",
    "    my_assert(call_node.value[1].type == 'call_argument', atomtrailer, s)\n",
    "    my_assert(not call_node.value[1].target, atomtrailer, s)\n",
    "    my_assert(call_node.value[1].value.type == 'int', atomtrailer, s)\n",
    "    month = call_node.value[1].value.value\n",
    "    my_assert(call_node.value[2].type == 'call_argument', atomtrailer, s)\n",
    "    my_assert(not call_node.value[2].target, atomtrailer, s)\n",
    "    my_assert(call_node.value[2].value.type == 'int', atomtrailer, s)\n",
    "    day = call_node.value[2].value.value\n",
    "    \n",
    "    return {'year': year, 'month': month, 'day': day}"
   ]
  },
  {
   "cell_type": "code",
   "execution_count": null,
   "metadata": {
    "collapsed": true
   },
   "outputs": [],
   "source": [
    "def parse_enum(atomtrailers, s):\n",
    "    my_assert(atomtrailers.type == 'atomtrailers', rbnode, s)\n",
    "    \n",
    "    my_assert(len(atomtrailers.value) == 2, rbnode, s)\n",
    "    my_assert(atomtrailers.value[0].type == 'name', rbnode, s)\n",
    "    my_assert(atomtrailers.value[0].value == 'Enum', rbnode, s)\n",
    "    \n",
    "    call_node = atomtrailers.value[1]\n",
    "    my_assert(call_node.type == 'call', rbnode, s)\n",
    "    my_assert(len(call_node.value) == 1, rbnode, s)\n",
    "    my_assert(call_node.value[0].type == 'call_argument', rbnode, s)\n",
    "    my_assert(not call_node.value[0].target, rbnode, s)\n",
    "    \n",
    "    enum_list_node = call_node.value[0].value\n",
    "    my_assert(enum_list_node.type == 'list', rbnode, s)\n",
    "    \n",
    "    enum_list = []\n",
    "    for element in enum_list_node.value:\n",
    "        my_assert(element.type == 'unicode_string', rbnode, s)\n",
    "        enum_list.append(element.value)\n",
    "        \n",
    "    return enum_list"
   ]
  },
  {
   "cell_type": "code",
   "execution_count": null,
   "metadata": {
    "collapsed": true
   },
   "outputs": [],
   "source": [
    "def parse_parameter_path(atomtrailers, first_index, s):\n",
    "    my_assert(atomtrailers.type == 'atomtrailers', atomtrailers, s)\n",
    "    \n",
    "    parameter_path = []\n",
    "    for i in range(first_index, len(atomtrailers.value)):\n",
    "        path_component = atomtrailers.value[i]\n",
    "        my_assert(path_component.type == 'name', rbnode, s)\n",
    "        parameter_path.append(path_component.value)\n",
    "\n",
    "    return parameter_path"
   ]
  },
  {
   "cell_type": "code",
   "execution_count": null,
   "metadata": {
    "collapsed": true
   },
   "outputs": [],
   "source": [
    "def parse_arguments(call, global_index, local_index):\n",
    "    my_assert(call.type == 'call', rbnode, s)\n",
    "    \n",
    "    arg_list = []\n",
    "    arg_dict = {}\n",
    "    \n",
    "    no_target = True\n",
    "    args = call.value\n",
    "    for arg in args:\n",
    "        my_assert(args.type == 'call_argument', rbnode, s)\n",
    "        if args[0].target:\n",
    "            no_target = False\n",
    "            my_assert(arg.type == 'call_argument', rbnode, s)\n",
    "            my_assert(arg.target.type == 'name', rbnode, s)\n",
    "            target = arg.target.value\n",
    "        else:\n",
    "            my_assert(no_target, rbnode, s)\n",
    "            my_assert(arg.value.type == 'name', rbnode, s)\n",
    "\n",
    "        child_state = {\n",
    "            'keyword': 'expression',\n",
    "            'local_variables': s['local_variables'],\n",
    "        }\n",
    "        visit_function_rbnode(arg.value, child_state)\n",
    "        value = child_state['tmp_var']\n",
    "        \n",
    "        if args[0].target:\n",
    "            arg_dict[target] = value\n",
    "        else:\n",
    "            arg_list.append(value)\n",
    "\n",
    "        return arg_list, arg_dict"
   ]
  },
  {
   "cell_type": "markdown",
   "metadata": {},
   "source": [
    "# Module traversal functions"
   ]
  },
  {
   "cell_type": "code",
   "execution_count": null,
   "metadata": {
    "collapsed": false
   },
   "outputs": [],
   "source": [
    "def visit_module_rbnode(rbnode, s):\n",
    "    visitors = keyfilter(lambda key: key.startswith('visit_module_'), globals()) # should be defined once\n",
    "    visitor = visitors.get('visit_module_' + rbnode.type)\n",
    "    if visitor is None:\n",
    "        raise NotImplementedParsingError(\n",
    "            'Module visitor not declared for type=\"{type}\"'.format(\n",
    "                type=rbnode.type,\n",
    "                ), rbnode, s)\n",
    "    ofnode = visitor(rbnode, s)\n",
    "    return ofnode\n"
   ]
  },
  {
   "cell_type": "code",
   "execution_count": null,
   "metadata": {
    "collapsed": true
   },
   "outputs": [],
   "source": [
    "def visit_module_endl(rbnode, s):\n",
    "    return"
   ]
  },
  {
   "cell_type": "code",
   "execution_count": null,
   "metadata": {
    "collapsed": true
   },
   "outputs": [],
   "source": [
    "def visit_module_from_import(rbnode, s):\n",
    "    my_assert(s['keyword'] == 'module', rbnode, s)\n",
    "    \n",
    "    # unmodified (TODO)\n",
    "    s['imports'].append(rbnode)"
   ]
  },
  {
   "cell_type": "code",
   "execution_count": null,
   "metadata": {
    "collapsed": true
   },
   "outputs": [],
   "source": [
    "def visit_module_import(rbnode, s):\n",
    "    my_assert(s['keyword'] == 'module', rbnode, s)\n",
    "    \n",
    "    # unmodified (TODO)\n",
    "    s['imports'].append(rbnode)"
   ]
  },
  {
   "cell_type": "code",
   "execution_count": null,
   "metadata": {
    "collapsed": true
   },
   "outputs": [],
   "source": [
    "def visit_module_comment(rbnode, s):\n",
    "    # comments are discarded for the moment (TODO)\n",
    "    return"
   ]
  },
  {
   "cell_type": "code",
   "execution_count": null,
   "metadata": {
    "collapsed": false
   },
   "outputs": [],
   "source": [
    "def visit_module_class(rbnode, s):\n",
    "    my_assert(s['keyword'] == 'module', rbnode, s)\n",
    "    \n",
    "    name = rbnode.name\n",
    "    \n",
    "    if name == 'rsa_ressource_calculator':\n",
    "        return\n",
    "    \n",
    "    my_assert(not rbnode.decorators, rbnode, s)\n",
    "    \n",
    "    upper_classes = []\n",
    "    for upper_class in rbnode.inherit_from:\n",
    "        my_assert(upper_class.type == 'name', rbnode, s)\n",
    "        upper_classes.append(upper_class.value)\n",
    "        \n",
    "    class_obj = {\n",
    "        'type': 'class',\n",
    "        'name': name,\n",
    "        'upper_classes': upper_classes,\n",
    "        'content': rbnode.value,\n",
    "        }\n",
    "\n",
    "    s['classes'].append(class_obj)"
   ]
  },
  {
   "cell_type": "code",
   "execution_count": null,
   "metadata": {
    "collapsed": true
   },
   "outputs": [],
   "source": [
    "def visit_module_def(rbnode, s):\n",
    "    my_assert(s['keyword'] == 'module', rbnode, s)\n",
    "    \n",
    "    if rbnode.name in ['_revprim', 'preload_zone_apl']:\n",
    "        return\n",
    "    \n",
    "    # unmodified (TODO)\n",
    "    s['auxiliary_functions'].append(rbnode)"
   ]
  },
  {
   "cell_type": "code",
   "execution_count": null,
   "metadata": {
    "collapsed": false
   },
   "outputs": [],
   "source": [
    "def visit_module_assignment(rbnode, s):\n",
    "    my_assert(s['keyword'] == 'module', rbnode, s)\n",
    "\n",
    "    my_assert(rbnode.operator == '', rbnode, s)\n",
    "    \n",
    "    my_assert(rbnode.target.type == 'name', rbnode, s)\n",
    "    name = rbnode.target.value\n",
    "    \n",
    "    if name in ['zone_apl_by_depcom']:\n",
    "        return\n",
    "    \n",
    "    if rbnode.value.type == 'int':\n",
    "        s['constants'].append({\n",
    "                'name': name,\n",
    "                'type': 'int',\n",
    "                'value': rbnode.value.value,\n",
    "            })\n",
    "        return\n",
    "    \n",
    "    if rbnode.value.type == 'name':\n",
    "        my_assert(rbnode.value.value == 'None', rbnode, s)\n",
    "        s['constants'].append({\n",
    "                'name': name,\n",
    "                'type': 'None',\n",
    "                'value': None,\n",
    "            })\n",
    "        return\n",
    "    \n",
    "    if rbnode.value.type == 'atomtrailers':\n",
    "        atomtrailers = rbnode.value\n",
    "\n",
    "        my_assert(atomtrailers.value[0].type == 'name', rbnode, s)\n",
    "        function_name = atomtrailers.value[0].value\n",
    "        if function_name == 'Enum':\n",
    "            enum_list = parse_enum(atomtrailers, s)\n",
    "\n",
    "            s['enums'].append({\n",
    "                'name': name,\n",
    "                'enum_list': enum_list,\n",
    "            })\n",
    "            return\n",
    "\n",
    "        if function_name == 'logging':\n",
    "            # ignore logging\n",
    "            return\n",
    "\n",
    "        raise ParsingException('Unknown atomtrailers', rbnode, s)\n",
    "\n",
    "    raise ParsingException('Unknown type', rbnode, s)\n"
   ]
  },
  {
   "cell_type": "markdown",
   "metadata": {
    "collapsed": true
   },
   "source": [
    "# Module parsing"
   ]
  },
  {
   "cell_type": "code",
   "execution_count": null,
   "metadata": {
    "collapsed": false
   },
   "outputs": [],
   "source": [
    "parsed_modules = {}\n",
    "\n",
    "for name in filenames:\n",
    "    print('Visiting ' + name)\n",
    "    red = redbaron_trees[name]\n",
    "    \n",
    "\n",
    "    \n",
    "    s = {\n",
    "        'keyword': 'module',\n",
    "        'module_name': name,\n",
    "        'imports': [],\n",
    "        'classes': [],\n",
    "        'enums': [],\n",
    "        'auxiliary_functions': [],\n",
    "        'constants': [],\n",
    "        }\n",
    "    \n",
    "    for rbnode in red:\n",
    "        visit_module_rbnode(rbnode, s)\n",
    "        \n",
    "    parsed_modules[name] = {\n",
    "        'imports': s['imports'],\n",
    "        'classes': s['classes'],\n",
    "        'enums': s['enums'],\n",
    "        'auxiliary_functions': s['auxiliary_functions'],\n",
    "        'constants': s['constants'],\n",
    "    }"
   ]
  },
  {
   "cell_type": "markdown",
   "metadata": {},
   "source": [
    "# Class traversal functions"
   ]
  },
  {
   "cell_type": "code",
   "execution_count": null,
   "metadata": {
    "collapsed": true
   },
   "outputs": [],
   "source": [
    "def visit_class_rbnode(rbnode, s):\n",
    "    visitors = keyfilter(lambda key: key.startswith('visit_class_'), globals()) # should be defined once\n",
    "    visitor = visitors.get('visit_class_' + rbnode.type)\n",
    "    if visitor is None:\n",
    "        raise NotImplementedParsingError(\n",
    "            'Class visitor not declared for type=\"{type}\"'.format(\n",
    "                type=rbnode.type,\n",
    "                ), rbnode, s)\n",
    "    ofnode = visitor(rbnode, s)\n",
    "    return ofnode\n"
   ]
  },
  {
   "cell_type": "code",
   "execution_count": null,
   "metadata": {
    "collapsed": true
   },
   "outputs": [],
   "source": [
    "def visit_class_endl(rbnode, s):\n",
    "    return"
   ]
  },
  {
   "cell_type": "code",
   "execution_count": null,
   "metadata": {
    "collapsed": true
   },
   "outputs": [],
   "source": [
    "def visit_class_assignment(rbnode, s):\n",
    "    my_assert(s['keyword'] == 'class', rbnode, s)\n",
    "    \n",
    "    my_assert(rbnode.operator == '', rbnode, s)\n",
    "    \n",
    "    my_assert(rbnode.target.type == 'name', rbnode, s)\n",
    "    target = rbnode.target.value\n",
    "    \n",
    "    if target == 'column':\n",
    "        if rbnode.value.type == 'atomtrailers':\n",
    "            my_assert(len(rbnode.value.value) == 2, rbnode, s)\n",
    "\n",
    "            my_assert(rbnode.value.value[0].type == 'name', rbnode, s)\n",
    "            column_name = rbnode.value.value[0].value\n",
    "\n",
    "            call_node = rbnode.value.value[1]\n",
    "            my_assert(call_node.type == 'call', rbnode, s)\n",
    "            column_args = {}\n",
    "            for arg in call_node.value:\n",
    "                my_assert(arg.target.type == 'name', rbnode, s)\n",
    "                column_args[arg.target.value] = arg.value\n",
    "\n",
    "            my_assert('column' not in s['class_variables'].keys(), rbnode, s)\n",
    "            s['class_variables']['column'] = column_name\n",
    "            s['class_variables']['column_args'] = column_args\n",
    "\n",
    "        elif rbnode.value.type == 'name':\n",
    "            column_name = rbnode.value.value\n",
    "\n",
    "            my_assert('column' not in s['class_variables'].keys(), rbnode, s)\n",
    "            s['class_variables']['column'] = column_name\n",
    "        else:\n",
    "            raise NotImplementedParsingError('Unknown type', rbnode, s)\n",
    "    \n",
    "    elif target == 'entity_class':\n",
    "        my_assert(rbnode.value.type == 'name', rbnode, s)\n",
    "        \n",
    "        my_assert('entity_class' not in s, rbnode, s)\n",
    "        s['entity_class'] = rbnode.value.value\n",
    "              \n",
    "    elif target == 'label':\n",
    "        # can be unicode_string or string_chain ! (TODO)\n",
    "        # my_assert(rbnode.value.type == 'unicode_string', rbnode, s)\n",
    "        \n",
    "        my_assert('label' not in s, rbnode, s)\n",
    "        s['label'] = rbnode.value\n",
    "        \n",
    "    elif target == 'start_date':\n",
    "        date = parse_date(rbnode.value, s)\n",
    "        \n",
    "        my_assert('start_date' not in s, rbnode, s)\n",
    "        s['start_date'] = date\n",
    "         \n",
    "    elif target == 'stop_date':\n",
    "        date = parse_date(rbnode.value, s)\n",
    "\n",
    "        my_assert('stop_date' not in s, rbnode, s)\n",
    "        s['stop_date'] = date\n",
    "        \n",
    "    elif target == 'url':\n",
    "        # can be a tuple, see revnet (TODO)\n",
    "        # my_assert(rbnode.value.type in ['string', 'unicode_string'], rbnode, s)\n",
    "        \n",
    "        my_assert('url' not in s, rbnode, s)\n",
    "        s['url'] = rbnode.value.value\n",
    "        \n",
    "             \n",
    "    elif target == 'operation':\n",
    "        my_assert(rbnode.value.type == 'string', rbnode, s)\n",
    "        \n",
    "        my_assert('operation' not in s, rbnode, s)\n",
    "        s['operation'] = rbnode.value.value\n",
    "        \n",
    "             \n",
    "    elif target == 'variable':\n",
    "        my_assert(rbnode.value.type == 'name', rbnode, s)\n",
    "        \n",
    "        my_assert('variable' not in s, rbnode, s)\n",
    "        s['variable'] = rbnode.value.value\n",
    "              \n",
    "    elif target == 'cerfa_field':\n",
    "        # my_assert(rbnode.value.type == 'unicode_string', rbnode, s)\n",
    "        # can be a unicode string or a dict\n",
    "        \n",
    "        my_assert('cerfa_field' not in s, rbnode, s)\n",
    "        s['cerfa_field'] = rbnode.value\n",
    "                \n",
    "    elif target == 'is_permanent':\n",
    "        my_assert(rbnode.value.type == 'name', rbnode, s)\n",
    "        my_assert(rbnode.value.value in ['True', 'False'], rbnode, s)        \n",
    "        \n",
    "        my_assert('is_permanent' not in s, rbnode, s)\n",
    "        s['is_permanent'] = rbnode.value.value == 'True'\n",
    "    \n",
    "    elif target == 'base_function':\n",
    "        my_assert(rbnode.value.type == 'name', rbnode, s)\n",
    "        \n",
    "        my_assert('base_function' not in s, rbnode, s)\n",
    "        s['base_function'] = rbnode.value.value\n",
    "              \n",
    "    elif target == 'calculate_output':\n",
    "        my_assert(rbnode.value.type == 'name', rbnode, s)\n",
    "        \n",
    "        my_assert('calculate_output' not in s, rbnode, s)\n",
    "        s['calculate_output'] = rbnode.value.value\n",
    "              \n",
    "    elif target == 'set_input':\n",
    "        my_assert(rbnode.value.type == 'name', rbnode, s)\n",
    "        \n",
    "        my_assert('set_input' not in s, rbnode, s)\n",
    "        s['set_input'] = rbnode.value.value\n",
    "        \n",
    "    elif target == 'role':\n",
    "        my_assert(rbnode.value.type == 'name', rbnode, s)\n",
    "        \n",
    "        my_assert('role' not in s, rbnode, s)\n",
    "        s['role'] = rbnode.value.value\n",
    "              \n",
    "\n",
    "    else:            \n",
    "        raise NotImplementedParsingError('Unknown class variable {}'.format(target), rbnode, s)\n",
    "            \n"
   ]
  },
  {
   "cell_type": "code",
   "execution_count": null,
   "metadata": {
    "collapsed": true
   },
   "outputs": [],
   "source": [
    "def visit_class_def(rbnode, s):\n",
    "    my_assert(s['keyword'] == 'class', rbnode, s)\n",
    "    name = rbnode.name\n",
    "    \n",
    "    decorators = rbnode.decorators\n",
    "\n",
    "    arguments = []\n",
    "    for arg in rbnode.arguments:\n",
    "        my_assert(arg.type == 'def_argument', rbnode, s)\n",
    "        my_assert(arg.target.type == 'name', rbnode, s)\n",
    "        arguments.append(arg.target.value)\n",
    "        my_assert(not arg.value, rbnode, s)\n",
    "    \n",
    "    instructions = rbnode.value # unmodified (TODO)\n",
    "    \n",
    "    my_assert(name not in s['class_functions'], rbnode, s)\n",
    "    s['class_functions'][name] = {\n",
    "        'arguments': arguments,\n",
    "        'decorators': decorators,\n",
    "        'instructions': instructions,\n",
    "    }"
   ]
  },
  {
   "cell_type": "code",
   "execution_count": null,
   "metadata": {
    "collapsed": true
   },
   "outputs": [],
   "source": [
    "def visit_class_comment(rbnode, s):\n",
    "    # ignored (TODO)\n",
    "    return"
   ]
  },
  {
   "cell_type": "code",
   "execution_count": null,
   "metadata": {
    "collapsed": true
   },
   "outputs": [],
   "source": [
    "def visit_class_string(rbnode, s):\n",
    "    # ignored (TODO)\n",
    "    return"
   ]
  },
  {
   "cell_type": "markdown",
   "metadata": {},
   "source": [
    "# Class parsing"
   ]
  },
  {
   "cell_type": "code",
   "execution_count": null,
   "metadata": {
    "collapsed": false
   },
   "outputs": [],
   "source": [
    "parsed_classes = {}\n",
    "\n",
    "for module_name, module in parsed_modules.items():\n",
    "    print('Visiting module {} to parse its classes.'.format(module_name))\n",
    "    \n",
    "    parsed_classes[module_name] = {\n",
    "        'parsed_classes': {},\n",
    "    }\n",
    "    \n",
    "    for cl in module['classes']:\n",
    "        class_name = cl['name']\n",
    "        print('Visiting class {}'.format(class_name))\n",
    "        \n",
    "        s = {\n",
    "            'keyword': 'class',\n",
    "            'class_name': name,\n",
    "            'class_variables': {},\n",
    "            'class_functions': {},\n",
    "            }\n",
    "    \n",
    "        for rbnode in cl['content']:\n",
    "            visit_class_rbnode(rbnode, s)\n",
    "\n",
    "        parsed_classes[module_name]['parsed_classes'][class_name] = {\n",
    "            'class_variables': s['class_variables'],\n",
    "            'class_functions': s['class_functions'],\n",
    "            }"
   ]
  },
  {
   "cell_type": "markdown",
   "metadata": {},
   "source": [
    "# Function traversal visitors"
   ]
  },
  {
   "cell_type": "code",
   "execution_count": null,
   "metadata": {
    "collapsed": true
   },
   "outputs": [],
   "source": [
    "def visit_function_rbnode(rbnode, s):\n",
    "    visitors = keyfilter(lambda key: key.startswith('visit_function_'), globals()) # should be defined once\n",
    "    visitor = visitors.get('visit_function_' + rbnode.type)\n",
    "    if visitor is None:\n",
    "        raise NotImplementedParsingError(\n",
    "            'Function visitor not declared for type=\"{type}\"'.format(\n",
    "                type=rbnode.type,\n",
    "                ), rbnode, s)\n",
    "    ofnode = visitor(rbnode, s)\n",
    "    return ofnode\n"
   ]
  },
  {
   "cell_type": "code",
   "execution_count": null,
   "metadata": {
    "collapsed": true
   },
   "outputs": [],
   "source": [
    "def visit_function_endl(rbnode, s):\n",
    "    return"
   ]
  },
  {
   "cell_type": "code",
   "execution_count": null,
   "metadata": {
    "collapsed": false
   },
   "outputs": [],
   "source": [
    "def visit_function_assignment(rbnode, s):\n",
    "    my_assert(s['keyword'] == 'function', rbnode, s)\n",
    "    \n",
    "    my_assert(rbnode.target.type == 'name', rbnode, s)\n",
    "    name = rbnode.target.value\n",
    "    \n",
    "    rbvalue = rbnode.value\n",
    "    s['keyword'] = 'expression'\n",
    "    visit_function_rbnode(rbvalue, s)\n",
    "    \n",
    "    s['local_variables'][name] = s['tmp_var']\n",
    "    del s['tmp_var']\n",
    "    s['keyword'] = 'function'"
   ]
  },
  {
   "cell_type": "code",
   "execution_count": null,
   "metadata": {
    "collapsed": false
   },
   "outputs": [],
   "source": [
    "def visit_function_atomtrailers(rbnode, s):\n",
    "    my_assert(s['keyword'] == 'expression', rbnode, s)\n",
    "\n",
    "    rb_first_item = rbnode.value[0]\n",
    "    \n",
    "    child_state = {\n",
    "        'keyword': 'expression',\n",
    "        'local_variables': s['local_variables'],\n",
    "    }\n",
    "    visit_function_rbnode(rb_first_item, child_state)\n",
    "    first_item = child_state['tmp_var']\n",
    "\n",
    "    if first_item['type'] == 'period':\n",
    "        my_assert(len(rbnode.value) == 2, rbnode, s)\n",
    "\n",
    "        my_assert(rbnode.value[1].type == 'name', rbnode, s)\n",
    "        period_op = rbnode.value[1].value\n",
    "        if period_op in ['this_month', 'n_2']:\n",
    "            tmp_var = {\n",
    "                'type': 'period', \n",
    "                'nodetype': 'period-operation', \n",
    "                'operator': period_op, \n",
    "                'operands': [first_item],\n",
    "            }\n",
    "            s['tmp_var'] = tmp_var\n",
    "            return\n",
    "\n",
    "        if period_op == 'start':\n",
    "            tmp_var = {\n",
    "                'type': 'instant', \n",
    "                'nodetype': 'period-to-instant', \n",
    "                'operator': 'start', \n",
    "                'operands': [first_item],\n",
    "            }\n",
    "            s['tmp_var'] = tmp_var\n",
    "            return\n",
    "\n",
    "        raise NotImplementedParsingError('Unknown period operand', rbnode, s)\n",
    "            \n",
    "    if first_item['type'] == 'simulation':\n",
    "\n",
    "        my_assert(rbnode.value[1].type == 'name', rbnode, s)\n",
    "        simulation_op = rbnode.value[1].value\n",
    "        if simulation_op in ['calculate', 'compute', 'calculate_add']:\n",
    "            my_assert(len(rbnode.value) == 3, rbnode, s)\n",
    "\n",
    "            my_assert(rbnode.value[2].type == 'call', rbnode, s)\n",
    "            args = rbnode.value[2].value\n",
    "            my_assert(len(args) in [1, 2], rbnode, s)\n",
    "\n",
    "            my_assert(args[0].type == 'call_argument', rbnode, s)\n",
    "            my_assert(not args[0].target, rbnode, s)\n",
    "            my_assert(args[0].value.type == 'string', rbnode, s)\n",
    "            called_var = args[0].value.value\n",
    "            operands = [called_var]\n",
    "\n",
    "            if len(args) == 2:\n",
    "                my_assert(args[1].type == 'call_argument', rbnode, s)\n",
    "                my_assert(not args[1].target, rbnode, s)\n",
    "                rb_arg_period = args[1].value\n",
    "                child_state = {\n",
    "                    'keyword': 'expression',\n",
    "                    'local_variables': s['local_variables'],\n",
    "                }\n",
    "                visit_function_rbnode(rb_arg_period, child_state)\n",
    "                arg_period = child_state['tmp_var']\n",
    "                my_assert(arg_period['type'] == 'period', rbnode, s)\n",
    "                operands.append(arg_period)\n",
    "\n",
    "            tmp_var = {\n",
    "                'type': 'value', \n",
    "                'nodetype': 'variable_for_period', \n",
    "                'operator': simulation_op, \n",
    "                'operands': operands,\n",
    "            }\n",
    "            s['tmp_var'] = tmp_var\n",
    "            return\n",
    "\n",
    "        if simulation_op == 'legislation_at':\n",
    "            my_assert(rbnode.value[2].type == 'call', rbnode, s)\n",
    "            args = rbnode.value[2].value\n",
    "            my_assert(len(args) == 1, rbnode, s)\n",
    "            rb_instant_arg = args[0]\n",
    "            my_assert(rb_instant_arg.type == 'call_argument', rbnode, s)\n",
    "            my_assert(not rb_instant_arg.target, rbnode, s)\n",
    "\n",
    "            child_state = {\n",
    "                'keyword': 'expression',\n",
    "                'local_variables': s['local_variables'],\n",
    "            }\n",
    "            visit_function_rbnode(rb_instant_arg.value, child_state)\n",
    "            instant_arg = child_state['tmp_var']\n",
    "            my_assert(instant_arg['type'] == 'instant', rbnode, s)\n",
    "\n",
    "            parameter_path = parse_parameter_path(rbnode, 3, s)\n",
    "\n",
    "            tmp_var = {\n",
    "                'type': 'parameter', \n",
    "                'nodetype': 'parameter', \n",
    "                'instant': instant_arg, \n",
    "                'path': parameter_path,\n",
    "            }\n",
    "            s['tmp_var'] = tmp_var\n",
    "            return\n",
    "\n",
    "        raise NotImplementedParsingError('Unknown simulation op.', rbnode, s)\n",
    "            \n",
    "    if first_item['type'] == 'self':\n",
    "\n",
    "        my_assert(rbnode.value[1].type == 'name', rbnode, s)\n",
    "        self_op = rbnode.value[1].value\n",
    "        if self_op in ['split_by_roles', 'sum_by_entity']:\n",
    "            my_assert(len(rbnode.value) == 3, rbnode, s)\n",
    "            \n",
    "            child_state = {\n",
    "                'keyword': 'expression',\n",
    "                'local_variables': s['local_variables'],\n",
    "            }\n",
    "            visit_function_rbnode(rbnode.value[2], child_state)\n",
    "            args = child_state['tmp_var']\n",
    "\n",
    "            tmp_var = {\n",
    "                'type': 'value', \n",
    "                'nodetype': 'self_operation', \n",
    "                'operator': self_op, \n",
    "                'operands': args,\n",
    "            }\n",
    "            s['tmp_var'] = tmp_var\n",
    "            return\n",
    "\n",
    "        raise NotImplementedParsingError('Unknown self op.', rbnode, s)\n",
    "            \n",
    "    if first_item['type'] == 'parameter':\n",
    "        parameter_path = parse_parameter_path(rbnode, 1, s)\n",
    "\n",
    "        tmp_var = {\n",
    "            'type': 'value', \n",
    "            'nodetype': 'parameter', \n",
    "            'instant': first_item['instant'], \n",
    "            'path': first_item['path'] + parameter_path,\n",
    "        }\n",
    "        s['tmp_var'] = tmp_var\n",
    "        return\n",
    "    \n",
    "    if first_item['type'] == 'arithmetic_operation_tmp':\n",
    "    \n",
    "        if first_item['op'] in ['round', 'sum', 'not_']:\n",
    "            my_assert(len(rbnode.value) == 2, rbnode, s)\n",
    "            my_assert(rbnode.value[1].type == 'call', rbnode, s)\n",
    "            args = rbnode.value[1].value\n",
    "            \n",
    "            if (len(args) == 1) and args[0].type == 'argument_generator_comprehension':\n",
    "                # (TODO)\n",
    "                tmp_var = {\n",
    "                    'type': 'value', \n",
    "                    'nodetype': 'arithmetic_operation_comprehension',\n",
    "                    'op': first_item['op'],\n",
    "                    'rb_argument_generator_comprehension': args[0],\n",
    "                }\n",
    "                s['tmp_var'] = tmp_var\n",
    "                return\n",
    "                \n",
    "            parsed_args = []\n",
    "            for arg in args:\n",
    "                my_assert(arg.type == 'call_argument', rbnode, s)\n",
    "                my_assert(not arg.target, rbnode, s)\n",
    "                \n",
    "                child_state = {\n",
    "                    'keyword': 'expression',\n",
    "                    'local_variables': s['local_variables'],\n",
    "                }\n",
    "                visit_function_rbnode(arg.value, child_state)\n",
    "                parsed_arg = child_state['tmp_var']\n",
    "                parsed_args.append(parsed_arg)\n",
    "\n",
    "            tmp_var = {\n",
    "                'type': 'value', \n",
    "                'nodetype': 'arithmetic_operation', \n",
    "                'op': first_item['op'], \n",
    "                'operands': parsed_args,\n",
    "            }\n",
    "            s['tmp_var'] = tmp_var\n",
    "            return\n",
    "                   \n",
    "        raise NotImplementedParsingError('Unknown arithmetic_operation_tmp.', rbnode, s)\n",
    "        \n",
    "    if first_item['type'] == 'apply_thresholds_tmp':\n",
    "        tmp_var = {\n",
    "            'type': 'value', \n",
    "            'nodetype': 'apply_thresholds', \n",
    "            'rbnode': rbnode,\n",
    "        }\n",
    "        s['tmp_var'] = tmp_var\n",
    "        return\n",
    "\n",
    "    raise NotImplementedParsingError('Unknown first item of an atomtrailers.', rbnode, s)\n",
    "    "
   ]
  },
  {
   "cell_type": "code",
   "execution_count": null,
   "metadata": {
    "collapsed": true
   },
   "outputs": [],
   "source": [
    "def visit_function_binary_operator(rbnode, s):\n",
    "    op = rbnode.value\n",
    "    \n",
    "    parsed_args = []\n",
    "    for arg in [rbnode.first, rbnode.second]:\n",
    "        child_state = {\n",
    "            'keyword': 'expression',\n",
    "            'local_variables': s['local_variables'],\n",
    "        }\n",
    "        visit_function_rbnode(arg, child_state)\n",
    "        parsed_arg = child_state['tmp_var']\n",
    "        parsed_args.append(parsed_arg)\n",
    "\n",
    "    tmp_var = {\n",
    "        'type': 'value', \n",
    "        'nodetype': 'arithmetic_operation', \n",
    "        'op': op, \n",
    "        'operands': parsed_args,\n",
    "    }\n",
    "    s['tmp_var'] = tmp_var\n",
    "    return\n"
   ]
  },
  {
   "cell_type": "code",
   "execution_count": null,
   "metadata": {
    "collapsed": true
   },
   "outputs": [],
   "source": [
    "def visit_function_name(rbnode, s):\n",
    "    name = rbnode.value\n",
    "    \n",
    "    if name in s['local_variables']:\n",
    "        s['tmp_var'] = s['local_variables'][name]\n",
    "        return\n",
    "\n",
    "    if name in ['round', 'sum', 'not_']:\n",
    "        tmp_var = {\n",
    "            'type': 'arithmetic_operation_tmp', \n",
    "            'nodetype': 'arithmetic_operation_tmp', \n",
    "            'op': name, \n",
    "        }\n",
    "        s['tmp_var'] = tmp_var\n",
    "        return\n",
    "    \n",
    "    if name == 'apply_thresholds':\n",
    "        # to deal with specifically (TODO)\n",
    "        tmp_var = {\n",
    "            'type': 'apply_thresholds_tmp', \n",
    "            'nodetype': 'apply_thresholds', \n",
    "        }\n",
    "        s['tmp_var'] = tmp_var\n",
    "        return\n",
    "            \n",
    "    raise NotImplementedParsingError('Unknown name {}'.format(name), rbnode, s)\n"
   ]
  },
  {
   "cell_type": "code",
   "execution_count": null,
   "metadata": {
    "collapsed": true
   },
   "outputs": [],
   "source": [
    "def visit_function_int(rbnode, s):\n",
    "    tmp_var = {\n",
    "        'type': 'value', \n",
    "        'nodetype': 'int', \n",
    "        'value': rbnode.value, \n",
    "    }\n",
    "    s['tmp_var'] = tmp_var\n",
    "    return\n"
   ]
  },
  {
   "cell_type": "code",
   "execution_count": null,
   "metadata": {
    "collapsed": true
   },
   "outputs": [],
   "source": [
    "def visit_function_float(rbnode, s):\n",
    "    tmp_var = {\n",
    "        'type': 'value', \n",
    "        'nodetype': 'float', \n",
    "        'value': rbnode.value, \n",
    "    }\n",
    "    s['tmp_var'] = tmp_var\n",
    "    return\n"
   ]
  },
  {
   "cell_type": "code",
   "execution_count": null,
   "metadata": {
    "collapsed": true
   },
   "outputs": [],
   "source": [
    "def visit_function_associative_parenthesis(rbnode, s):\n",
    "    visit_function_rbnode(rbnode.value, s)"
   ]
  },
  {
   "cell_type": "code",
   "execution_count": null,
   "metadata": {
    "collapsed": false
   },
   "outputs": [],
   "source": [
    "def visit_function_return(rbnode, s):\n",
    "    my_assert(rbnode.value.type == 'tuple', rbnode, s)\n",
    "    \n",
    "    returned_tuple = rbnode.value\n",
    "    my_assert(len(returned_tuple.value) ==  2, rbnode, s)\n",
    "\n",
    "    rb_period = returned_tuple.value[0]\n",
    "    child_state = {\n",
    "        'keyword': 'expression',\n",
    "        'local_variables': s['local_variables'],\n",
    "    }\n",
    "    visit_function_rbnode(rb_period, child_state)\n",
    "    returned_period = child_state['tmp_var']\n",
    "    my_assert(returned_period['type'] == 'period', rbnode, s)\n",
    "\n",
    "    rb_value = returned_tuple.value[1]\n",
    "    child_state = {\n",
    "        'keyword': 'expression',\n",
    "        'local_variables': s['local_variables'],\n",
    "    }\n",
    "    visit_function_rbnode(rb_value, child_state)\n",
    "    returned_value = child_state['tmp_var']\n",
    "    my_assert(returned_value['type'] == 'value', rbnode, s)\n",
    "\n",
    "    returned_value = {\n",
    "        'type': 'return', \n",
    "        'nodetype': 'return', \n",
    "        'period': returned_period, \n",
    "        'value': returned_value,\n",
    "    }\n",
    "    my_assert('return' not in s, rbnode, s)\n",
    "    s['return'] = returned_value\n",
    "    return\n",
    "\n",
    "    \n"
   ]
  },
  {
   "cell_type": "code",
   "execution_count": null,
   "metadata": {
    "collapsed": true
   },
   "outputs": [],
   "source": [
    "def visit_function_comparison(rbnode, s):\n",
    "    my_assert(rbnode.value.type == \"comparison_operator\", rbnode, s)\n",
    "    op = rbnode.value.first\n",
    "    my_assert(not rbnode.value.second, rbnode, s)\n",
    "\n",
    "    parsed_args = []\n",
    "    for arg in [rbnode.first, rbnode.second]:\n",
    "        child_state = {\n",
    "            'keyword': 'expression',\n",
    "            'local_variables': s['local_variables'],\n",
    "        }\n",
    "        visit_function_rbnode(arg, child_state)\n",
    "        parsed_arg = child_state['tmp_var']\n",
    "        parsed_args.append(parsed_arg)\n",
    "\n",
    "    tmp_var = {\n",
    "        'type': 'value', \n",
    "        'nodetype': 'arithmetic_operation', \n",
    "        'op': op, \n",
    "        'operands': parsed_args,\n",
    "    }\n",
    "    s['tmp_var'] = tmp_var\n",
    "    return\n"
   ]
  },
  {
   "cell_type": "code",
   "execution_count": null,
   "metadata": {
    "collapsed": true
   },
   "outputs": [],
   "source": [
    "def visit_function_comment(rbnode, s):\n",
    "    # ignored (TODO)\n",
    "    return"
   ]
  },
  {
   "cell_type": "code",
   "execution_count": null,
   "metadata": {
    "collapsed": true
   },
   "outputs": [],
   "source": [
    "def visit_function_list(rbnode, s):\n",
    "    # ignored (TODO)\n",
    "    tmp_var = {\n",
    "        'type': 'list', \n",
    "        'nodetype': 'list', \n",
    "        'rbnode': rbnode,\n",
    "    }\n",
    "    s['tmp_var'] = tmp_var\n",
    "    return\n"
   ]
  },
  {
   "cell_type": "code",
   "execution_count": null,
   "metadata": {
    "collapsed": true
   },
   "outputs": [],
   "source": [
    "def visit_function_for(rbnode, s):\n",
    "    # ignored (TODO)\n",
    "    return"
   ]
  },
  {
   "cell_type": "markdown",
   "metadata": {},
   "source": [
    "# Function parsing"
   ]
  },
  {
   "cell_type": "code",
   "execution_count": null,
   "metadata": {
    "collapsed": false,
    "scrolled": true
   },
   "outputs": [],
   "source": [
    "parsed_functions = {}\n",
    "\n",
    "for module_name, module in parsed_classes.items():\n",
    "    print('Visiting module {}'.format(module_name))\n",
    "    \n",
    "    parsed_functions[module_name] = {\n",
    "        'classes': {},\n",
    "    }\n",
    "    \n",
    "    for class_name, cl in module['parsed_classes'].items():\n",
    "        print('Visiting class {} to parse its function(s)'.format(class_name))\n",
    "        \n",
    "        parsed_functions[module_name]['classes'][class_name] = {\n",
    "            'parsed_functions': {},\n",
    "        }\n",
    "        \n",
    "        for function_name, fn in cl['class_functions'].items():\n",
    "            print('Visiting function {}'.format(function_name))\n",
    "            \n",
    "            s = {\n",
    "                'keyword': 'function',\n",
    "                'module_name': module_name,\n",
    "                'class_name': class_name,\n",
    "                'function_name': function_name,\n",
    "                'local_variables': {\n",
    "                    'period': {'type': 'period', 'nodetype': 'builtin-period'},\n",
    "                    'simulation': {'type': 'simulation'},\n",
    "                    'self': {'type': 'self'},\n",
    "                },\n",
    "            }\n",
    "            \n",
    "            for rbnode in fn['instructions']:\n",
    "                visit_function_rbnode(rbnode, s)\n",
    "\n",
    "            parsed_functions[module_name]['classes'][class_name]['parsed_functions'][function_name] = {\n",
    "                'return': s['return'],\n",
    "                }\n"
   ]
  },
  {
   "cell_type": "code",
   "execution_count": null,
   "metadata": {
    "collapsed": false
   },
   "outputs": [],
   "source": [
    "angry_rbnode"
   ]
  },
  {
   "cell_type": "code",
   "execution_count": null,
   "metadata": {
    "collapsed": false
   },
   "outputs": [],
   "source": [
    "angry_rbnode.help()"
   ]
  },
  {
   "cell_type": "code",
   "execution_count": null,
   "metadata": {
    "collapsed": false
   },
   "outputs": [],
   "source": [
    "angry_s"
   ]
  },
  {
   "cell_type": "code",
   "execution_count": null,
   "metadata": {
    "collapsed": false
   },
   "outputs": [],
   "source": []
  },
  {
   "cell_type": "code",
   "execution_count": null,
   "metadata": {
    "collapsed": true
   },
   "outputs": [],
   "source": []
  },
  {
   "cell_type": "code",
   "execution_count": null,
   "metadata": {
    "collapsed": false
   },
   "outputs": [],
   "source": [
    "parsed_classes['prelevements_obligatoires/impot_revenu/reductions_impot.py']['parsed_classes'][\n",
    "    'patnat']['class_functions']['function_20100101_20101231']['instructions']"
   ]
  }
 ],
 "metadata": {
  "kernelspec": {
   "display_name": "Python 3",
   "language": "python",
   "name": "python3"
  },
  "language_info": {
   "codemirror_mode": {
    "name": "ipython",
    "version": 3
   },
   "file_extension": ".py",
   "mimetype": "text/x-python",
   "name": "python",
   "nbconvert_exporter": "python",
   "pygments_lexer": "ipython3",
   "version": "3.5.2"
  }
 },
 "nbformat": 4,
 "nbformat_minor": 0
}
