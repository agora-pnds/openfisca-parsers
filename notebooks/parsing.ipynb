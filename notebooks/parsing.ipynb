{
 "cells": [
  {
   "cell_type": "code",
   "execution_count": 21,
   "metadata": {
    "collapsed": false
   },
   "outputs": [],
   "source": [
    "import argparse\n",
    "import logging\n",
    "import os\n",
    "import sys\n",
    "import json\n",
    "\n",
    "\n",
    "from toolz.curried import keyfilter\n",
    "\n",
    "from openfisca_parsers import exceptions, loading, module_pass, class_pass, function_pass"
   ]
  },
  {
   "cell_type": "code",
   "execution_count": 24,
   "metadata": {
    "collapsed": false
   },
   "outputs": [
    {
     "data": {
      "text/plain": [
       "<module 'openfisca_parsers.function_pass' from '/data/projects/openfisca/openfisca-parsers/openfisca_parsers/function_pass.py'>"
      ]
     },
     "execution_count": 24,
     "metadata": {},
     "output_type": "execute_result"
    }
   ],
   "source": [
    "import importlib\n",
    "\n",
    "importlib.reload(loading)\n",
    "importlib.reload(exceptions)\n",
    "importlib.reload(module_pass)\n",
    "importlib.reload(class_pass)\n",
    "importlib.reload(function_pass)\n"
   ]
  },
  {
   "cell_type": "markdown",
   "metadata": {},
   "source": [
    "# Loading"
   ]
  },
  {
   "cell_type": "code",
   "execution_count": 4,
   "metadata": {
    "collapsed": false
   },
   "outputs": [],
   "source": [
    "redbaron_trees = loading.load()"
   ]
  },
  {
   "cell_type": "markdown",
   "metadata": {
    "collapsed": true
   },
   "source": [
    "# Module parsing"
   ]
  },
  {
   "cell_type": "code",
   "execution_count": 13,
   "metadata": {
    "collapsed": false
   },
   "outputs": [],
   "source": [
    "parsed_modules = module_pass.parse(redbaron_trees)"
   ]
  },
  {
   "cell_type": "markdown",
   "metadata": {},
   "source": [
    "# Class parsing"
   ]
  },
  {
   "cell_type": "code",
   "execution_count": 19,
   "metadata": {
    "collapsed": false
   },
   "outputs": [],
   "source": [
    "parsed_classes = class_pass.parse(parsed_modules)"
   ]
  },
  {
   "cell_type": "markdown",
   "metadata": {},
   "source": [
    "# Function parsing"
   ]
  },
  {
   "cell_type": "code",
   "execution_count": 25,
   "metadata": {
    "collapsed": false,
    "scrolled": true
   },
   "outputs": [
    {
     "name": "stdout",
     "output_type": "stream",
     "text": [
      "Visiting module prelevements_obligatoires/impot_revenu/ir.py\n",
      "Visiting class rfr_rvcm to parse its function(s)\n",
      "Visiting function function\n"
     ]
    },
    {
     "ename": "NameError",
     "evalue": "name 'FunctionTooComplexException' is not defined",
     "output_type": "error",
     "traceback": [
      "\u001b[0;31m---------------------------------------------------------------------------\u001b[0m",
      "\u001b[0;31mNotImplementedParsingError\u001b[0m                Traceback (most recent call last)",
      "\u001b[0;32m/data/projects/openfisca/openfisca-parsers/openfisca_parsers/function_pass.py\u001b[0m in \u001b[0;36mparse\u001b[0;34m(parsed_modules, parsed_classes)\u001b[0m\n\u001b[1;32m    698\u001b[0m                     \u001b[0;32mfor\u001b[0m \u001b[0mrbnode\u001b[0m \u001b[0;32min\u001b[0m \u001b[0mfn\u001b[0m\u001b[0;34m[\u001b[0m\u001b[0;34m'instructions'\u001b[0m\u001b[0;34m]\u001b[0m\u001b[0;34m:\u001b[0m\u001b[0;34m\u001b[0m\u001b[0m\n\u001b[0;32m--> 699\u001b[0;31m                         \u001b[0mvisit_function_rbnode\u001b[0m\u001b[0;34m(\u001b[0m\u001b[0mrbnode\u001b[0m\u001b[0;34m,\u001b[0m \u001b[0ms\u001b[0m\u001b[0;34m)\u001b[0m\u001b[0;34m\u001b[0m\u001b[0m\n\u001b[0m\u001b[1;32m    700\u001b[0m                 \u001b[0;32mexcept\u001b[0m \u001b[0mFunctionTooComplexException\u001b[0m \u001b[0;32mas\u001b[0m \u001b[0me\u001b[0m\u001b[0;34m:\u001b[0m\u001b[0;34m\u001b[0m\u001b[0m\n",
      "\u001b[0;32m/data/projects/openfisca/openfisca-parsers/openfisca_parsers/function_pass.py\u001b[0m in \u001b[0;36mvisit_function_rbnode\u001b[0;34m(rbnode, s)\u001b[0m\n\u001b[1;32m     15\u001b[0m                 \u001b[0mtype\u001b[0m\u001b[0;34m=\u001b[0m\u001b[0mrbnode\u001b[0m\u001b[0;34m.\u001b[0m\u001b[0mtype\u001b[0m\u001b[0;34m,\u001b[0m\u001b[0;34m\u001b[0m\u001b[0m\n\u001b[0;32m---> 16\u001b[0;31m                 ), rbnode, s)\n\u001b[0m\u001b[1;32m     17\u001b[0m     \u001b[0mofnode\u001b[0m \u001b[0;34m=\u001b[0m \u001b[0mvisitor\u001b[0m\u001b[0;34m(\u001b[0m\u001b[0mrbnode\u001b[0m\u001b[0;34m,\u001b[0m \u001b[0ms\u001b[0m\u001b[0;34m)\u001b[0m\u001b[0;34m\u001b[0m\u001b[0m\n",
      "\u001b[0;31mNotImplementedParsingError\u001b[0m: Function visitor not declared for type=\"ifelseblock\"",
      "\nDuring handling of the above exception, another exception occurred:\n",
      "\u001b[0;31mNameError\u001b[0m                                 Traceback (most recent call last)",
      "\u001b[0;32m<ipython-input-25-00a889bfa79a>\u001b[0m in \u001b[0;36m<module>\u001b[0;34m()\u001b[0m\n\u001b[0;32m----> 1\u001b[0;31m \u001b[0mparsed_classes\u001b[0m \u001b[0;34m=\u001b[0m \u001b[0mfunction_pass\u001b[0m\u001b[0;34m.\u001b[0m\u001b[0mparse\u001b[0m\u001b[0;34m(\u001b[0m\u001b[0mparsed_modules\u001b[0m\u001b[0;34m,\u001b[0m \u001b[0mparsed_classes\u001b[0m\u001b[0;34m)\u001b[0m\u001b[0;34m\u001b[0m\u001b[0m\n\u001b[0m",
      "\u001b[0;32m/data/projects/openfisca/openfisca-parsers/openfisca_parsers/function_pass.py\u001b[0m in \u001b[0;36mparse\u001b[0;34m(parsed_modules, parsed_classes)\u001b[0m\n\u001b[1;32m    698\u001b[0m                     \u001b[0;32mfor\u001b[0m \u001b[0mrbnode\u001b[0m \u001b[0;32min\u001b[0m \u001b[0mfn\u001b[0m\u001b[0;34m[\u001b[0m\u001b[0;34m'instructions'\u001b[0m\u001b[0;34m]\u001b[0m\u001b[0;34m:\u001b[0m\u001b[0;34m\u001b[0m\u001b[0m\n\u001b[1;32m    699\u001b[0m                         \u001b[0mvisit_function_rbnode\u001b[0m\u001b[0;34m(\u001b[0m\u001b[0mrbnode\u001b[0m\u001b[0;34m,\u001b[0m \u001b[0ms\u001b[0m\u001b[0;34m)\u001b[0m\u001b[0;34m\u001b[0m\u001b[0m\n\u001b[0;32m--> 700\u001b[0;31m                 \u001b[0;32mexcept\u001b[0m \u001b[0mFunctionTooComplexException\u001b[0m \u001b[0;32mas\u001b[0m \u001b[0me\u001b[0m\u001b[0;34m:\u001b[0m\u001b[0;34m\u001b[0m\u001b[0m\n\u001b[0m\u001b[1;32m    701\u001b[0m                     functions_too_complex.append({\n\u001b[1;32m    702\u001b[0m                             \u001b[0;34m'module_name'\u001b[0m\u001b[0;34m:\u001b[0m \u001b[0mmodule_name\u001b[0m\u001b[0;34m,\u001b[0m\u001b[0;34m\u001b[0m\u001b[0m\n",
      "\u001b[0;31mNameError\u001b[0m: name 'FunctionTooComplexException' is not defined"
     ]
    }
   ],
   "source": [
    "parsed_classes = function_pass.parse(parsed_modules, parsed_classes)"
   ]
  },
  {
   "cell_type": "markdown",
   "metadata": {},
   "source": [
    "# Debugging"
   ]
  },
  {
   "cell_type": "code",
   "execution_count": 26,
   "metadata": {
    "collapsed": false
   },
   "outputs": [
    {
     "data": {
      "text/html": [
       "<div class=\"highlight\" style=\"background: #f8f8f8\"><pre style=\"line-height: 125%\"><span></span><span style=\"color: #008000; font-weight: bold\">if</span> finpfl:\n",
       "            f2dc_bis <span style=\"color: #666666\">=</span> f2dc <span style=\"color: #666666\">+</span> f2da\n",
       "        <span style=\"color: #008000; font-weight: bold\">else</span>:\n",
       "            f2dc_bis <span style=\"color: #666666\">=</span> f2dc\n",
       "\n",
       "        <span style=\"color: #408080; font-style: italic\"># Calcul de i121</span>\n",
       "        <span style=\"color: #408080; font-style: italic\"># Part des frais s&#39;imputant sur les revenus déclarés case DC</span>\n",
       "        \n",
       "</pre></div>\n"
      ],
      "text/plain": [
       "<IfelseblockNode path=[109, 'value', 8, 'value', 24], \"if finpfl:\\n    ... \" 140127652763800, on DefNode 140127652313800>"
      ]
     },
     "execution_count": 26,
     "metadata": {},
     "output_type": "execute_result"
    }
   ],
   "source": [
    "exceptions.angry_rbnode"
   ]
  },
  {
   "cell_type": "code",
   "execution_count": null,
   "metadata": {
    "collapsed": true
   },
   "outputs": [],
   "source": []
  },
  {
   "cell_type": "code",
   "execution_count": null,
   "metadata": {
    "collapsed": true
   },
   "outputs": [],
   "source": []
  },
  {
   "cell_type": "code",
   "execution_count": null,
   "metadata": {
    "collapsed": true
   },
   "outputs": [],
   "source": []
  },
  {
   "cell_type": "code",
   "execution_count": null,
   "metadata": {
    "collapsed": false
   },
   "outputs": [],
   "source": [
    "parsed_functions_counter / (parsed_functions_counter + len(functions_too_complex))"
   ]
  },
  {
   "cell_type": "code",
   "execution_count": null,
   "metadata": {
    "collapsed": true
   },
   "outputs": [],
   "source": []
  }
 ],
 "metadata": {
  "kernelspec": {
   "display_name": "Python 3",
   "language": "python",
   "name": "python3"
  },
  "language_info": {
   "codemirror_mode": {
    "name": "ipython",
    "version": 3
   },
   "file_extension": ".py",
   "mimetype": "text/x-python",
   "name": "python",
   "nbconvert_exporter": "python",
   "pygments_lexer": "ipython3",
   "version": "3.4.3"
  }
 },
 "nbformat": 4,
 "nbformat_minor": 0
}
