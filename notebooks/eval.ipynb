{
 "cells": [
  {
   "cell_type": "code",
   "execution_count": 11,
   "metadata": {
    "collapsed": false
   },
   "outputs": [],
   "source": [
    "import json\n",
    "import re\n",
    "\n",
    "from redbaron import RedBaron\n",
    "\n",
    "from openfisca_parsers import contexts, rbnodes, visitors\n",
    "from openfisca_parsers.ofnodes import is_ofnode\n",
    "from openfisca_parsers.json_graph import asg_to_json_graph, json_graph_to_asg, deep_diff\n"
   ]
  },
  {
   "cell_type": "markdown",
   "metadata": {},
   "source": [
    "## Parse the file to python object"
   ]
  },
  {
   "cell_type": "code",
   "execution_count": 3,
   "metadata": {
    "collapsed": false
   },
   "outputs": [],
   "source": [
    "source_file_path = '/data/projects/openfisca/openfisca-france/openfisca_france/model/prelevements_obligatoires/isf.py'\n",
    "variable_names='isf_imm_bati'\n",
    "on_parse_error='show'\n",
    "\n",
    "with open(source_file_path) as source_file:\n",
    "    source_code = source_file.read()\n",
    "    \n",
    "red = RedBaron(source_code)\n",
    "context = contexts.create()\n",
    "variable_class_rbnodes = rbnodes.find_all_variable_classes(red, names=variable_names)\n",
    "\n",
    "for variable_class_rbnode in variable_class_rbnodes:\n",
    "    variable_name = variable_class_rbnode.name\n",
    "    visitors.visit_rbnode(variable_class_rbnode, context)"
   ]
  },
  {
   "cell_type": "code",
   "execution_count": 4,
   "metadata": {
    "collapsed": true
   },
   "outputs": [],
   "source": [
    "variable_ofnodes = context['variable_by_name'].values()\n",
    "pyvariable_ofnodes = context['pyvariables']\n",
    "ofnodes = variable_ofnodes"
   ]
  },
  {
   "cell_type": "code",
   "execution_count": 6,
   "metadata": {
    "collapsed": false
   },
   "outputs": [
    {
     "name": "stdout",
     "output_type": "stream",
     "text": [
      "[\n",
      "    {\n",
      "        \"default_value\": 0, \n",
      "        \"input_period\": {\n",
      "            \"type\": \"Period\"\n",
      "        }, \n",
      "        \"is_period_size_independent\": false, \n",
      "        \"docstring\": \"Immeubles b\\u00e2tis\", \n",
      "        \"label\": \"isf_imm_bati\", \n",
      "        \"value_type\": \"float\", \n",
      "        \"output_period\": {\n",
      "            \"operator\": \"this_year\", \n",
      "            \"operand\": {\n",
      "                \"type\": \"Period\"\n",
      "            }, \n",
      "            \"type\": \"PeriodOperation\"\n",
      "        }, \n",
      "        \"formula\": {\n",
      "            \"operator\": \"sum\", \n",
      "            \"type\": \"ArithmeticOperation\", \n",
      "            \"operands\": [\n",
      "                {\n",
      "                    \"operator\": \"product\", \n",
      "                    \"type\": \"ArithmeticOperation\", \n",
      "                    \"operands\": [\n",
      "                        {\n",
      "                            \"operator\": \"sum\", \n",
      "                            \"type\": \"ArithmeticOperation\", \n",
      "                            \"operands\": [\n",
      "                                {\n",
      "                                    \"type\": \"Constant\", \n",
      "                                    \"value\": 1\n",
      "                                }, \n",
      "                                {\n",
      "                                    \"operator\": \"negate\", \n",
      "                                    \"operand\": {\n",
      "                                        \"type\": \"ParameterAtInstant\", \n",
      "                                        \"parameter\": {\n",
      "                                            \"path\": [\n",
      "                                                \"isf\", \n",
      "                                                \"res_princ\", \n",
      "                                                \"taux\"\n",
      "                                            ], \n",
      "                                            \"type\": \"Parameter\"\n",
      "                                        }, \n",
      "                                        \"instant\": {\n",
      "                                            \"operator\": \"start\", \n",
      "                                            \"operand\": {\n",
      "                                                \"operator\": \"this_year\", \n",
      "                                                \"operand\": {\n",
      "                                                    \"type\": \"Period\"\n",
      "                                                }, \n",
      "                                                \"type\": \"PeriodOperation\"\n",
      "                                            }, \n",
      "                                            \"type\": \"PeriodOperation\"\n",
      "                                        }\n",
      "                                    }, \n",
      "                                    \"type\": \"ArithmeticOperation\"\n",
      "                                }\n",
      "                            ]\n",
      "                        }, \n",
      "                        {\n",
      "                            \"variable\": {\n",
      "                                \"_stub\": true, \n",
      "                                \"type\": \"Variable\", \n",
      "                                \"name\": \"b1ab\"\n",
      "                            }, \n",
      "                            \"type\": \"ValueForPeriod\", \n",
      "                            \"period\": {\n",
      "                                \"operator\": \"this_year\", \n",
      "                                \"operand\": {\n",
      "                                    \"type\": \"Period\"\n",
      "                                }, \n",
      "                                \"type\": \"PeriodOperation\"\n",
      "                            }\n",
      "                        }\n",
      "                    ]\n",
      "                }, \n",
      "                {\n",
      "                    \"variable\": {\n",
      "                        \"_stub\": true, \n",
      "                        \"type\": \"Variable\", \n",
      "                        \"name\": \"b1ac\"\n",
      "                    }, \n",
      "                    \"type\": \"ValueForPeriod\", \n",
      "                    \"period\": {\n",
      "                        \"operator\": \"this_year\", \n",
      "                        \"operand\": {\n",
      "                            \"type\": \"Period\"\n",
      "                        }, \n",
      "                        \"type\": \"PeriodOperation\"\n",
      "                    }\n",
      "                }\n",
      "            ]\n",
      "        }, \n",
      "        \"entity\": \"foyer_fiscal\", \n",
      "        \"type\": \"Variable\", \n",
      "        \"name\": \"isf_imm_bati\"\n",
      "    }\n",
      "]\n"
     ]
    }
   ],
   "source": [
    "print json.dumps(ofnodes, indent=4)"
   ]
  },
  {
   "cell_type": "markdown",
   "metadata": {},
   "source": [
    "## Intepreter"
   ]
  },
  {
   "cell_type": "code",
   "execution_count": 64,
   "metadata": {
    "collapsed": false
   },
   "outputs": [],
   "source": [
    "class Instant():\n",
    "    def __init__(self, year, month, day):\n",
    "        self.year = year\n",
    "        self.month = month\n",
    "        self.day = day\n",
    "\n",
    "class Period():\n",
    "    def __init__(self, period_type, year, month=None):\n",
    "        assert period_type in ['year', 'month']\n",
    "        \n",
    "        self.period_type = period_type\n",
    "        self.year = year\n",
    "        self.month = month\n",
    "        \n",
    "    def start(self):\n",
    "        if self.period_type == 'year':\n",
    "            return Instant(self.year, 1, 1)\n",
    "        \n",
    "        if self.period_type == 'month':\n",
    "            return Instant(self.year, self.month, 1)\n",
    "        \n",
    "    def this_year(self):\n",
    "        if self.period_type == 'year':\n",
    "            return self\n",
    "        \n",
    "        if self.period_type == 'month':\n",
    "            return Period('year', self.year)\n",
    "        \n",
    "def get_parameter_at_instant(path, instant):\n",
    "    return 0.3"
   ]
  },
  {
   "cell_type": "code",
   "execution_count": 83,
   "metadata": {
    "collapsed": false
   },
   "outputs": [],
   "source": [
    "def evaluate(node, period_values):\n",
    "    assert is_ofnode(node), node\n",
    "\n",
    "    nodetype = node['type']\n",
    "    \n",
    "    if nodetype == 'Constant':\n",
    "        return node['value']\n",
    "    \n",
    "    if nodetype == 'Variable':\n",
    "        return evaluate(node['formula'], period_values)\n",
    "    \n",
    "    if nodetype == 'ArithmeticOperation':\n",
    "        operator = node['operator']\n",
    "        \n",
    "        if operator == 'negate':\n",
    "            operand = node['operand']\n",
    "            return -evaluate(operand, period_values)\n",
    "        \n",
    "        if operator in ['sum', 'product']:\n",
    "            operands_results = [evaluate(op, period_values) for op in node['operands']]\n",
    "            \n",
    "            if operator == 'sum':\n",
    "                return sum(operands_results)\n",
    "            \n",
    "            if operator == 'product':\n",
    "                return reduce(lambda x, y: x * y, operands_results, 1)\n",
    "        \n",
    "        raise ValueError('Unknown ArithmeticOperation operator : ' + operator)\n",
    "        \n",
    "    if nodetype == 'Period':\n",
    "        return period_values[id(node)]\n",
    "        \n",
    "    if nodetype == 'ParameterAtInstant':\n",
    "        parameter_path = node['parameter']['path']\n",
    "        instant = evaluate(node['instant'], period_values)\n",
    "        return get_parameter_at_instant(parameter_path, instant)\n",
    "    \n",
    "    if nodetype == 'PeriodOperation':\n",
    "        operator = node['operator']\n",
    "        operand_result = evaluate(node['operand'], period_values)\n",
    "        \n",
    "        if operator == 'start':\n",
    "            return operand_result.start()\n",
    "        \n",
    "        if operator == 'this_year':\n",
    "            return operand_result.this_year()\n",
    "        \n",
    "        raise ValueError('Unknown PeriodOperation operator : ' + operator)\n",
    "        \n",
    "    if nodetype == 'ValueForPeriod':\n",
    "        period_result = evaluate(node['period'], period_values)\n",
    "        variable = node['variable']\n",
    "            \n",
    "        if '_stub' in variable and variable['_stub']:\n",
    "            return 0.65\n",
    "\n",
    "        variable_period = variable['input_period']\n",
    "        period_values[id(variable_period)] = period_result\n",
    "        \n",
    "        return evaluate(variable, period_values)\n",
    "    \n",
    "    raise ValueError('Unknown nodetype : ' + nodetype)"
   ]
  },
  {
   "cell_type": "markdown",
   "metadata": {},
   "source": [
    "## Basic test"
   ]
  },
  {
   "cell_type": "code",
   "execution_count": 84,
   "metadata": {
    "collapsed": false
   },
   "outputs": [],
   "source": [
    "root_node = ofnodes[0]\n",
    "root_period = root_node['input_period']\n",
    "period_values = {id(root_period): Period('year', 2015)}"
   ]
  },
  {
   "cell_type": "code",
   "execution_count": 85,
   "metadata": {
    "collapsed": false
   },
   "outputs": [
    {
     "data": {
      "text/plain": [
       "1.105"
      ]
     },
     "execution_count": 85,
     "metadata": {},
     "output_type": "execute_result"
    }
   ],
   "source": [
    "evaluate(root_node, period_values)"
   ]
  },
  {
   "cell_type": "code",
   "execution_count": null,
   "metadata": {
    "collapsed": true
   },
   "outputs": [],
   "source": []
  }
 ],
 "metadata": {
  "kernelspec": {
   "display_name": "Python 2",
   "language": "python",
   "name": "python2"
  },
  "language_info": {
   "codemirror_mode": {
    "name": "ipython",
    "version": 2
   },
   "file_extension": ".py",
   "mimetype": "text/x-python",
   "name": "python",
   "nbconvert_exporter": "python",
   "pygments_lexer": "ipython2",
   "version": "2.7.6"
  }
 },
 "nbformat": 4,
 "nbformat_minor": 0
}
