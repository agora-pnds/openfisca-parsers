{
 "cells": [
  {
   "cell_type": "code",
   "execution_count": 1,
   "metadata": {
    "collapsed": false
   },
   "outputs": [],
   "source": [
    "import argparse\n",
    "import logging\n",
    "import os\n",
    "import sys\n",
    "\n",
    "from redbaron import RedBaron\n",
    "\n",
    "from toolz.curried import assoc, concatv, keyfilter, map, merge\n",
    "from toolz.curried.operator import attrgetter\n"
   ]
  },
  {
   "cell_type": "markdown",
   "metadata": {},
   "source": [
    "# Loading"
   ]
  },
  {
   "cell_type": "code",
   "execution_count": 2,
   "metadata": {
    "collapsed": true
   },
   "outputs": [
    {
     "data": {
      "text/plain": [
       "['__init__.py',\n",
       " 'datatrees.py',\n",
       " 'mesures.py',\n",
       " 'base.py',\n",
       " 'patrimoine/__init__.py',\n",
       " 'revenus/__init__.py',\n",
       " 'revenus/autres.py',\n",
       " 'revenus/capital/financier.py',\n",
       " 'revenus/capital/__init__.py',\n",
       " 'revenus/capital/plus_value.py',\n",
       " 'revenus/capital/foncier.py',\n",
       " 'revenus/activite/non_salarie.py',\n",
       " 'revenus/activite/__init__.py',\n",
       " 'revenus/activite/salarie.py',\n",
       " 'revenus/remplacement/retraite.py',\n",
       " 'revenus/remplacement/__init__.py',\n",
       " 'revenus/remplacement/chomage.py',\n",
       " 'revenus/remplacement/indemnites_journalieres_securite_sociale.py',\n",
       " 'prestations/__init__.py',\n",
       " 'prestations/aides_logement.py',\n",
       " 'prestations/education.py',\n",
       " 'prestations/minima_sociaux/aah.py',\n",
       " 'prestations/minima_sociaux/ppa.py',\n",
       " 'prestations/minima_sociaux/ass.py',\n",
       " 'prestations/minima_sociaux/rsa.py',\n",
       " 'prestations/minima_sociaux/asi_aspa.py',\n",
       " 'prestations/minima_sociaux/__init__.py',\n",
       " 'prestations/minima_sociaux/cmu.py',\n",
       " 'prestations/prestations_familiales/aeeh.py',\n",
       " 'prestations/prestations_familiales/__init__.py',\n",
       " 'prestations/prestations_familiales/ars.py',\n",
       " 'prestations/prestations_familiales/af.py',\n",
       " 'prestations/prestations_familiales/cf.py',\n",
       " 'prestations/prestations_familiales/paje.py',\n",
       " 'prestations/prestations_familiales/asf.py',\n",
       " 'prestations/prestations_familiales/base_ressource.py',\n",
       " 'caracteristiques_socio_demographiques/demographie.py',\n",
       " 'caracteristiques_socio_demographiques/logement.py',\n",
       " 'caracteristiques_socio_demographiques/__init__.py',\n",
       " 'consommation/__init__.py',\n",
       " 'prelevements_obligatoires/__init__.py',\n",
       " 'prelevements_obligatoires/isf.py',\n",
       " 'prelevements_obligatoires/taxe_habitation.py',\n",
       " 'prelevements_obligatoires/impot_revenu/credits_impot.py',\n",
       " 'prelevements_obligatoires/impot_revenu/charges_deductibles.py',\n",
       " 'prelevements_obligatoires/impot_revenu/reductions_impot.py',\n",
       " 'prelevements_obligatoires/impot_revenu/plus_values_immobilieres.py',\n",
       " 'prelevements_obligatoires/impot_revenu/__init__.py',\n",
       " 'prelevements_obligatoires/impot_revenu/ir.py',\n",
       " 'prelevements_obligatoires/impot_revenu/variables_reductions_credits.py',\n",
       " 'prelevements_obligatoires/prelevements_sociaux/__init__.py',\n",
       " 'prelevements_obligatoires/prelevements_sociaux/taxes_salaires_main_oeuvre.py',\n",
       " 'prelevements_obligatoires/prelevements_sociaux/cotisations_sociales/allegements.py',\n",
       " 'prelevements_obligatoires/prelevements_sociaux/cotisations_sociales/travail_fonction_publique.py',\n",
       " 'prelevements_obligatoires/prelevements_sociaux/cotisations_sociales/preprocessing.py',\n",
       " 'prelevements_obligatoires/prelevements_sociaux/cotisations_sociales/__init__.py',\n",
       " 'prelevements_obligatoires/prelevements_sociaux/cotisations_sociales/exonerations.py',\n",
       " 'prelevements_obligatoires/prelevements_sociaux/cotisations_sociales/travail_totaux.py',\n",
       " 'prelevements_obligatoires/prelevements_sociaux/cotisations_sociales/contrat_professionnalisation.py',\n",
       " 'prelevements_obligatoires/prelevements_sociaux/cotisations_sociales/stage.py',\n",
       " 'prelevements_obligatoires/prelevements_sociaux/cotisations_sociales/travail_prive.py',\n",
       " 'prelevements_obligatoires/prelevements_sociaux/cotisations_sociales/apprentissage.py',\n",
       " 'prelevements_obligatoires/prelevements_sociaux/cotisations_sociales/base.py',\n",
       " 'prelevements_obligatoires/prelevements_sociaux/contributions_sociales/activite.py',\n",
       " 'prelevements_obligatoires/prelevements_sociaux/contributions_sociales/versement_transport.py',\n",
       " 'prelevements_obligatoires/prelevements_sociaux/contributions_sociales/__init__.py',\n",
       " 'prelevements_obligatoires/prelevements_sociaux/contributions_sociales/capital.py',\n",
       " 'prelevements_obligatoires/prelevements_sociaux/contributions_sociales/remplacement.py',\n",
       " 'prelevements_obligatoires/prelevements_sociaux/contributions_sociales/base.py']"
      ]
     },
     "execution_count": 2,
     "metadata": {},
     "output_type": "execute_result"
    }
   ],
   "source": [
    "source_dir = '../../openfisca-france/openfisca_france/model/'\n",
    "filenames = []\n",
    "\n",
    "for root, directories, files in os.walk(source_dir):    \n",
    "    for filename in files:\n",
    "        complete_filename = os.path.join(root, filename)\n",
    "        assert complete_filename[:len(source_dir)] == source_dir\n",
    "        complete_filename = complete_filename[len(source_dir):]\n",
    "        filenames.append(complete_filename)\n",
    "filenames"
   ]
  },
  {
   "cell_type": "code",
   "execution_count": 3,
   "metadata": {
    "collapsed": false
   },
   "outputs": [],
   "source": [
    "filenames.remove('base.py')\n",
    "filenames.remove('datatrees.py')\n",
    "filenames.remove('prelevements_obligatoires/prelevements_sociaux/cotisations_sociales/preprocessing.py')"
   ]
  },
  {
   "cell_type": "code",
   "execution_count": 4,
   "metadata": {
    "collapsed": true
   },
   "outputs": [
    {
     "name": "stdout",
     "output_type": "stream",
     "text": [
      "__init__.py parsed\n",
      "mesures.py parsed\n",
      "patrimoine/__init__.py parsed\n",
      "revenus/__init__.py parsed\n",
      "revenus/autres.py parsed\n",
      "revenus/capital/financier.py parsed\n",
      "revenus/capital/__init__.py parsed\n",
      "revenus/capital/plus_value.py parsed\n",
      "revenus/capital/foncier.py parsed\n",
      "revenus/activite/non_salarie.py parsed\n",
      "revenus/activite/__init__.py parsed\n",
      "revenus/activite/salarie.py parsed\n",
      "revenus/remplacement/retraite.py parsed\n",
      "revenus/remplacement/__init__.py parsed\n",
      "revenus/remplacement/chomage.py parsed\n",
      "revenus/remplacement/indemnites_journalieres_securite_sociale.py parsed\n",
      "prestations/__init__.py parsed\n",
      "prestations/aides_logement.py parsed\n",
      "prestations/education.py parsed\n",
      "prestations/minima_sociaux/aah.py parsed\n",
      "prestations/minima_sociaux/ppa.py parsed\n",
      "prestations/minima_sociaux/ass.py parsed\n",
      "prestations/minima_sociaux/rsa.py parsed\n",
      "prestations/minima_sociaux/asi_aspa.py parsed\n",
      "prestations/minima_sociaux/__init__.py parsed\n",
      "prestations/minima_sociaux/cmu.py parsed\n",
      "prestations/prestations_familiales/aeeh.py parsed\n",
      "prestations/prestations_familiales/__init__.py parsed\n",
      "prestations/prestations_familiales/ars.py parsed\n",
      "prestations/prestations_familiales/af.py parsed\n",
      "prestations/prestations_familiales/cf.py parsed\n",
      "prestations/prestations_familiales/paje.py parsed\n",
      "prestations/prestations_familiales/asf.py parsed\n",
      "prestations/prestations_familiales/base_ressource.py parsed\n",
      "caracteristiques_socio_demographiques/demographie.py parsed\n",
      "caracteristiques_socio_demographiques/logement.py parsed\n",
      "caracteristiques_socio_demographiques/__init__.py parsed\n",
      "consommation/__init__.py parsed\n",
      "prelevements_obligatoires/__init__.py parsed\n",
      "prelevements_obligatoires/isf.py parsed\n",
      "prelevements_obligatoires/taxe_habitation.py parsed\n",
      "prelevements_obligatoires/impot_revenu/credits_impot.py parsed\n",
      "prelevements_obligatoires/impot_revenu/charges_deductibles.py parsed\n",
      "prelevements_obligatoires/impot_revenu/reductions_impot.py parsed\n",
      "prelevements_obligatoires/impot_revenu/plus_values_immobilieres.py parsed\n",
      "prelevements_obligatoires/impot_revenu/__init__.py parsed\n",
      "prelevements_obligatoires/impot_revenu/ir.py parsed\n",
      "prelevements_obligatoires/impot_revenu/variables_reductions_credits.py parsed\n",
      "prelevements_obligatoires/prelevements_sociaux/__init__.py parsed\n",
      "prelevements_obligatoires/prelevements_sociaux/taxes_salaires_main_oeuvre.py parsed\n",
      "prelevements_obligatoires/prelevements_sociaux/cotisations_sociales/allegements.py parsed\n",
      "prelevements_obligatoires/prelevements_sociaux/cotisations_sociales/travail_fonction_publique.py parsed\n",
      "prelevements_obligatoires/prelevements_sociaux/cotisations_sociales/__init__.py parsed\n",
      "prelevements_obligatoires/prelevements_sociaux/cotisations_sociales/exonerations.py parsed\n",
      "prelevements_obligatoires/prelevements_sociaux/cotisations_sociales/travail_totaux.py parsed\n",
      "prelevements_obligatoires/prelevements_sociaux/cotisations_sociales/contrat_professionnalisation.py parsed\n",
      "prelevements_obligatoires/prelevements_sociaux/cotisations_sociales/stage.py parsed\n",
      "prelevements_obligatoires/prelevements_sociaux/cotisations_sociales/travail_prive.py parsed\n",
      "prelevements_obligatoires/prelevements_sociaux/cotisations_sociales/apprentissage.py parsed\n",
      "prelevements_obligatoires/prelevements_sociaux/cotisations_sociales/base.py parsed\n",
      "prelevements_obligatoires/prelevements_sociaux/contributions_sociales/activite.py parsed\n",
      "prelevements_obligatoires/prelevements_sociaux/contributions_sociales/versement_transport.py parsed\n",
      "prelevements_obligatoires/prelevements_sociaux/contributions_sociales/__init__.py parsed\n",
      "prelevements_obligatoires/prelevements_sociaux/contributions_sociales/capital.py parsed\n",
      "prelevements_obligatoires/prelevements_sociaux/contributions_sociales/remplacement.py parsed\n",
      "prelevements_obligatoires/prelevements_sociaux/contributions_sociales/base.py parsed\n"
     ]
    }
   ],
   "source": [
    "redbaron_trees = {}\n",
    "for filename in filenames:\n",
    "    with open(source_dir + filename) as source_file:\n",
    "        source_code = source_file.read()\n",
    "    red = RedBaron(source_code)\n",
    "    redbaron_trees[filename] = red\n",
    "    print('{} parsed'.format(filename))"
   ]
  },
  {
   "cell_type": "markdown",
   "metadata": {},
   "source": [
    "# Custom exceptions"
   ]
  },
  {
   "cell_type": "code",
   "execution_count": 5,
   "metadata": {
    "collapsed": true
   },
   "outputs": [],
   "source": [
    "angry_rbnode = None\n",
    "angry_global_context = None\n",
    "angry_local_context = None"
   ]
  },
  {
   "cell_type": "code",
   "execution_count": 6,
   "metadata": {
    "collapsed": false
   },
   "outputs": [],
   "source": [
    "class ParsingException(Exception):\n",
    "    def __init__(self, message, rbnode, global_context, local_context):\n",
    "        global angry_rbnode\n",
    "        global angry_global_context\n",
    "        global angry_local_context\n",
    "\n",
    "        angry_rbnode = rbnode\n",
    "        angry_global_context = global_context\n",
    "        angry_local_context = local_context\n",
    "\n",
    "        super(ParsingException, self).__init__(message)"
   ]
  },
  {
   "cell_type": "code",
   "execution_count": 7,
   "metadata": {
    "collapsed": true
   },
   "outputs": [],
   "source": [
    "class NotImplementedParsingError(ParsingException):\n",
    "    pass"
   ]
  },
  {
   "cell_type": "code",
   "execution_count": 8,
   "metadata": {
    "collapsed": true
   },
   "outputs": [],
   "source": [
    "class AssertionParsingError(ParsingException):\n",
    "    pass"
   ]
  },
  {
   "cell_type": "code",
   "execution_count": 9,
   "metadata": {
    "collapsed": true
   },
   "outputs": [],
   "source": [
    "def parsing_assert(cond, rbnode, global_context, local_context):\n",
    "    if cond:\n",
    "        return\n",
    "    \n",
    "    raise AssertionParsingError('', rbnode, global_context, local_context)"
   ]
  },
  {
   "cell_type": "markdown",
   "metadata": {},
   "source": [
    "# Helpers"
   ]
  },
  {
   "cell_type": "code",
   "execution_count": 10,
   "metadata": {
    "collapsed": false
   },
   "outputs": [],
   "source": [
    "import unicodedata\n",
    "\n",
    "def rbnode_to_exception(rbnode):\n",
    "    '''Because exceptions are ASCII only in python2'''\n",
    "    str1 = rbnode.dumps() # unicode string wrongly known as 'str'\n",
    "    str2 = unicode(str1, 'utf-8') # unicode string as unicode\n",
    "    str3 = unicodedata.normalize('NFKD', str2).encode('ascii', 'ignore') # ignore special chars\n",
    "    \n",
    "    return str3"
   ]
  },
  {
   "cell_type": "code",
   "execution_count": 11,
   "metadata": {
    "collapsed": true
   },
   "outputs": [],
   "source": [
    "def parse_date(atomtrailer, local_context, global_context):\n",
    "    parsing_assert(atomtrailer.type == 'atomtrailers', atomtrailer, local_context, global_context)\n",
    "    parsing_assert(len(atomtrailer.value) == 2, atomtrailer, local_context, global_context)\n",
    "    parsing_assert(atomtrailer.value[0].type == 'name', atomtrailer, local_context, global_context)\n",
    "    parsing_assert(atomtrailer.value[0].value == 'date', atomtrailer, local_context, global_context)\n",
    "    call_node = atomtrailer.value[1]\n",
    "    parsing_assert(call_node.type == 'call', atomtrailer, local_context, global_context)\n",
    "    parsing_assert(len(call_node.value) == 3, atomtrailer, local_context, global_context)\n",
    "    parsing_assert(call_node.value[0].type == 'call_argument', atomtrailer, local_context, global_context)\n",
    "    parsing_assert(not call_node.value[0].target, atomtrailer, local_context, global_context)\n",
    "    parsing_assert(call_node.value[0].value.type == 'int', atomtrailer, local_context, global_context)\n",
    "    year = call_node.value[0].value.value\n",
    "    parsing_assert(call_node.value[1].type == 'call_argument', atomtrailer, local_context, global_context)\n",
    "    parsing_assert(not call_node.value[1].target, atomtrailer, local_context, global_context)\n",
    "    parsing_assert(call_node.value[1].value.type == 'int', atomtrailer, local_context, global_context)\n",
    "    month = call_node.value[1].value.value\n",
    "    parsing_assert(call_node.value[2].type == 'call_argument', atomtrailer, local_context, global_context)\n",
    "    parsing_assert(not call_node.value[2].target, atomtrailer, local_context, global_context)\n",
    "    parsing_assert(call_node.value[2].value.type == 'int', atomtrailer, local_context, global_context)\n",
    "    day = call_node.value[2].value.value\n",
    "    \n",
    "    return {'year': year, 'month': month, 'day': day}"
   ]
  },
  {
   "cell_type": "code",
   "execution_count": 12,
   "metadata": {
    "collapsed": true
   },
   "outputs": [],
   "source": [
    "def parse_enum(atomtrailers, local_context, global_context):\n",
    "    parsing_assert(atomtrailers.type == 'atomtrailers', rbnode, global_context, local_context)\n",
    "    \n",
    "    parsing_assert(len(atomtrailers.value) == 2, rbnode, global_context, local_context)\n",
    "    parsing_assert(atomtrailers.value[0].type == 'name', rbnode, global_context, local_context)\n",
    "    parsing_assert(atomtrailers.value[0].value == 'Enum', rbnode, global_context, local_context)\n",
    "    \n",
    "    call_node = atomtrailers.value[1]\n",
    "    parsing_assert(call_node.type == 'call', rbnode, global_context, local_context)\n",
    "    parsing_assert(len(call_node.value) == 1, rbnode, global_context, local_context)\n",
    "    parsing_assert(call_node.value[0].type == 'call_argument', rbnode, global_context, local_context)\n",
    "    parsing_assert(not call_node.value[0].target, rbnode, global_context, local_context)\n",
    "    \n",
    "    enum_list_node = call_node.value[0].value\n",
    "    parsing_assert(enum_list_node.type == 'list', rbnode, global_context, local_context)\n",
    "    \n",
    "    enum_list = []\n",
    "    for element in enum_list_node.value:\n",
    "        parsing_assert(element.type == 'unicode_string', rbnode, global_context, local_context)\n",
    "        enum_list.append(element.value)\n",
    "        \n",
    "    return enum_list"
   ]
  },
  {
   "cell_type": "markdown",
   "metadata": {},
   "source": [
    "# Module traversal functions"
   ]
  },
  {
   "cell_type": "code",
   "execution_count": 13,
   "metadata": {
    "collapsed": false
   },
   "outputs": [],
   "source": [
    "def visit_module_rbnode(rbnode, global_context, local_context):\n",
    "    visitors = keyfilter(lambda key: key.startswith('visit_module_'), globals()) # should be defined once\n",
    "    visitor = visitors.get('visit_module_' + rbnode.type)\n",
    "    if visitor is None:\n",
    "        raise NotImplementedParsingError(\n",
    "            'Module visitor not declared for type=\"{type}\"'.format(\n",
    "                type=rbnode.type,\n",
    "                ), rbnode, global_context, local_context)\n",
    "    ofnode = visitor(rbnode, global_context, local_context)\n",
    "    return ofnode\n"
   ]
  },
  {
   "cell_type": "code",
   "execution_count": 14,
   "metadata": {
    "collapsed": true
   },
   "outputs": [],
   "source": [
    "def visit_module_endl(rbnode, global_context, local_context):\n",
    "    return"
   ]
  },
  {
   "cell_type": "code",
   "execution_count": 15,
   "metadata": {
    "collapsed": true
   },
   "outputs": [],
   "source": [
    "def visit_module_from_import(rbnode, global_context, local_context):\n",
    "    parsing_assert(local_context['keyword'] == 'module', rbnode, global_context, local_context)\n",
    "    \n",
    "    # unmodified (TODO)\n",
    "    local_context['imports'].append(rbnode)"
   ]
  },
  {
   "cell_type": "code",
   "execution_count": 16,
   "metadata": {
    "collapsed": true
   },
   "outputs": [],
   "source": [
    "def visit_module_import(rbnode, global_context, local_context):\n",
    "    parsing_assert(local_context['keyword'] == 'module', rbnode, global_context, local_context)\n",
    "    \n",
    "    # unmodified (TODO)\n",
    "    local_context['imports'].append(rbnode)"
   ]
  },
  {
   "cell_type": "code",
   "execution_count": 17,
   "metadata": {
    "collapsed": true
   },
   "outputs": [],
   "source": [
    "def visit_module_comment(rbnode, global_context, local_context):\n",
    "    # comments are discarded for the moment\n",
    "    return"
   ]
  },
  {
   "cell_type": "code",
   "execution_count": 18,
   "metadata": {
    "collapsed": false
   },
   "outputs": [],
   "source": [
    "def visit_module_class(rbnode, global_context, local_context):\n",
    "    parsing_assert(local_context['keyword'] == 'module', rbnode, global_context, local_context)\n",
    "    \n",
    "    name = rbnode.name\n",
    "    \n",
    "    parsing_assert(not rbnode.decorators, rbnode, global_context, local_context)\n",
    "    \n",
    "    upper_classes = []\n",
    "    for upper_class in rbnode.inherit_from:\n",
    "        parsing_assert(upper_class.type == 'name', rbnode, global_context, local_context)\n",
    "        upper_classes.append(upper_class.value)\n",
    "        \n",
    "    class_obj = {\n",
    "        'type': 'class',\n",
    "        'name': name,\n",
    "        'upper_classes': upper_classes,\n",
    "        'content': rbnode.value,\n",
    "        }\n",
    "\n",
    "    local_context['classes'].append(class_obj)"
   ]
  },
  {
   "cell_type": "code",
   "execution_count": 19,
   "metadata": {
    "collapsed": true
   },
   "outputs": [],
   "source": [
    "def visit_module_def(rbnode, global_context, local_context):\n",
    "    parsing_assert(local_context['keyword'] == 'module', rbnode, global_context, local_context)\n",
    "    \n",
    "    if rbnode.name in ['_revprim', 'preload_zone_apl']:\n",
    "        return\n",
    "    \n",
    "    # unmodified (TODO)\n",
    "    local_context['auxiliary_functions'].append(rbnode)"
   ]
  },
  {
   "cell_type": "code",
   "execution_count": 20,
   "metadata": {
    "collapsed": false
   },
   "outputs": [],
   "source": [
    "def visit_module_assignment(rbnode, global_context, local_context):\n",
    "    parsing_assert(local_context['keyword'] == 'module', rbnode, global_context, local_context)\n",
    "\n",
    "    parsing_assert(rbnode.operator == '', rbnode, global_context, local_context)\n",
    "    \n",
    "    parsing_assert(rbnode.target.type == 'name', rbnode, global_context, local_context)\n",
    "    name = rbnode.target.value\n",
    "    \n",
    "    if name in ['zone_apl_by_depcom']:\n",
    "        return\n",
    "    \n",
    "    if rbnode.value.type == 'int':\n",
    "        local_context['constants'].append({\n",
    "                'name': name,\n",
    "                'type': 'int',\n",
    "                'value': rbnode.value.value,\n",
    "            })\n",
    "        return\n",
    "    \n",
    "    if rbnode.value.type == 'name':\n",
    "        parsing_assert(rbnode.value.value == 'None', rbnode, global_context, local_context)\n",
    "        local_context['constants'].append({\n",
    "                'name': name,\n",
    "                'type': 'None',\n",
    "                'value': None,\n",
    "            })\n",
    "        return\n",
    "    \n",
    "    if rbnode.value.type == 'atomtrailers':\n",
    "        atomtrailers = rbnode.value\n",
    "\n",
    "        parsing_assert(atomtrailers.value[0].type == 'name', rbnode, global_context, local_context)\n",
    "        function_name = atomtrailers.value[0].value\n",
    "        if function_name == 'Enum':\n",
    "            enum_list = parse_enum(atomtrailers, global_context, local_context)\n",
    "\n",
    "            local_context['enums'].append({\n",
    "                'name': name,\n",
    "                'enum_list': enum_list,\n",
    "            })\n",
    "            return\n",
    "\n",
    "        if function_name == 'logging':\n",
    "            # ignore logging\n",
    "            return\n",
    "\n",
    "        raise ParsingException('Unknown atomtrailers', rbnode, global_context, local_context)\n",
    "\n",
    "    raise ParsingException('Unknown type', rbnode, global_context, local_context)\n"
   ]
  },
  {
   "cell_type": "markdown",
   "metadata": {
    "collapsed": true
   },
   "source": [
    "# Test"
   ]
  },
  {
   "cell_type": "code",
   "execution_count": 21,
   "metadata": {
    "collapsed": false
   },
   "outputs": [
    {
     "name": "stdout",
     "output_type": "stream",
     "text": [
      "Visiting __init__.py\n",
      "Visiting mesures.py\n",
      "Visiting patrimoine/__init__.py\n",
      "Visiting revenus/__init__.py\n",
      "Visiting revenus/autres.py\n",
      "Visiting revenus/capital/financier.py\n",
      "Visiting revenus/capital/__init__.py\n",
      "Visiting revenus/capital/plus_value.py\n",
      "Visiting revenus/capital/foncier.py\n",
      "Visiting revenus/activite/non_salarie.py\n",
      "Visiting revenus/activite/__init__.py\n",
      "Visiting revenus/activite/salarie.py\n",
      "Visiting revenus/remplacement/retraite.py\n",
      "Visiting revenus/remplacement/__init__.py\n",
      "Visiting revenus/remplacement/chomage.py\n",
      "Visiting revenus/remplacement/indemnites_journalieres_securite_sociale.py\n",
      "Visiting prestations/__init__.py\n",
      "Visiting prestations/aides_logement.py\n",
      "Visiting prestations/education.py\n",
      "Visiting prestations/minima_sociaux/aah.py\n",
      "Visiting prestations/minima_sociaux/ppa.py\n",
      "Visiting prestations/minima_sociaux/ass.py\n",
      "Visiting prestations/minima_sociaux/rsa.py\n",
      "Visiting prestations/minima_sociaux/asi_aspa.py\n",
      "Visiting prestations/minima_sociaux/__init__.py\n",
      "Visiting prestations/minima_sociaux/cmu.py\n",
      "Visiting prestations/prestations_familiales/aeeh.py\n",
      "Visiting prestations/prestations_familiales/__init__.py\n",
      "Visiting prestations/prestations_familiales/ars.py\n",
      "Visiting prestations/prestations_familiales/af.py\n",
      "Visiting prestations/prestations_familiales/cf.py\n",
      "Visiting prestations/prestations_familiales/paje.py\n",
      "Visiting prestations/prestations_familiales/asf.py\n",
      "Visiting prestations/prestations_familiales/base_ressource.py\n",
      "Visiting caracteristiques_socio_demographiques/demographie.py\n",
      "Visiting caracteristiques_socio_demographiques/logement.py\n",
      "Visiting caracteristiques_socio_demographiques/__init__.py\n",
      "Visiting consommation/__init__.py\n",
      "Visiting prelevements_obligatoires/__init__.py\n",
      "Visiting prelevements_obligatoires/isf.py\n",
      "Visiting prelevements_obligatoires/taxe_habitation.py\n",
      "Visiting prelevements_obligatoires/impot_revenu/credits_impot.py\n",
      "Visiting prelevements_obligatoires/impot_revenu/charges_deductibles.py\n",
      "Visiting prelevements_obligatoires/impot_revenu/reductions_impot.py\n",
      "Visiting prelevements_obligatoires/impot_revenu/plus_values_immobilieres.py\n",
      "Visiting prelevements_obligatoires/impot_revenu/__init__.py\n",
      "Visiting prelevements_obligatoires/impot_revenu/ir.py\n",
      "Visiting prelevements_obligatoires/impot_revenu/variables_reductions_credits.py\n",
      "Visiting prelevements_obligatoires/prelevements_sociaux/__init__.py\n",
      "Visiting prelevements_obligatoires/prelevements_sociaux/taxes_salaires_main_oeuvre.py\n",
      "Visiting prelevements_obligatoires/prelevements_sociaux/cotisations_sociales/allegements.py\n",
      "Visiting prelevements_obligatoires/prelevements_sociaux/cotisations_sociales/travail_fonction_publique.py\n",
      "Visiting prelevements_obligatoires/prelevements_sociaux/cotisations_sociales/__init__.py\n",
      "Visiting prelevements_obligatoires/prelevements_sociaux/cotisations_sociales/exonerations.py\n",
      "Visiting prelevements_obligatoires/prelevements_sociaux/cotisations_sociales/travail_totaux.py\n",
      "Visiting prelevements_obligatoires/prelevements_sociaux/cotisations_sociales/contrat_professionnalisation.py\n",
      "Visiting prelevements_obligatoires/prelevements_sociaux/cotisations_sociales/stage.py\n",
      "Visiting prelevements_obligatoires/prelevements_sociaux/cotisations_sociales/travail_prive.py\n",
      "Visiting prelevements_obligatoires/prelevements_sociaux/cotisations_sociales/apprentissage.py\n",
      "Visiting prelevements_obligatoires/prelevements_sociaux/cotisations_sociales/base.py\n",
      "Visiting prelevements_obligatoires/prelevements_sociaux/contributions_sociales/activite.py\n",
      "Visiting prelevements_obligatoires/prelevements_sociaux/contributions_sociales/versement_transport.py\n",
      "Visiting prelevements_obligatoires/prelevements_sociaux/contributions_sociales/__init__.py\n",
      "Visiting prelevements_obligatoires/prelevements_sociaux/contributions_sociales/capital.py\n",
      "Visiting prelevements_obligatoires/prelevements_sociaux/contributions_sociales/remplacement.py\n",
      "Visiting prelevements_obligatoires/prelevements_sociaux/contributions_sociales/base.py\n"
     ]
    }
   ],
   "source": [
    "for name in filenames:\n",
    "    print('Visiting ' + name)\n",
    "    red = redbaron_trees[name]\n",
    "    \n",
    "    global_context = {}\n",
    "    \n",
    "    local_context = {\n",
    "        'keyword': 'module',\n",
    "        'module_name': name,\n",
    "        'imports': [],\n",
    "        'classes': [],\n",
    "        'enums': [],\n",
    "        'auxiliary_functions': [],\n",
    "        'constants': [],\n",
    "        }\n",
    "    \n",
    "    for rbnode in red:\n",
    "        visit_module_rbnode(rbnode, global_context, local_context)\n",
    "        \n",
    "    global_context[name] = {\n",
    "        'imports': local_context['imports'],\n",
    "        'classes': local_context['classes'],\n",
    "        'enums': local_context['enums'],\n",
    "        'auxiliary_functions': local_context['auxiliary_functions'],\n",
    "        'constants': local_context['constants'],\n",
    "    }"
   ]
  },
  {
   "cell_type": "code",
   "execution_count": null,
   "metadata": {
    "collapsed": false
   },
   "outputs": [],
   "source": [
    "angry_rbnode"
   ]
  },
  {
   "cell_type": "code",
   "execution_count": null,
   "metadata": {
    "collapsed": false
   },
   "outputs": [],
   "source": [
    "angry_rbnode.help()"
   ]
  },
  {
   "cell_type": "code",
   "execution_count": null,
   "metadata": {
    "collapsed": false
   },
   "outputs": [],
   "source": [
    "angry_local_context"
   ]
  },
  {
   "cell_type": "markdown",
   "metadata": {},
   "source": [
    "# Class traversal functions"
   ]
  },
  {
   "cell_type": "code",
   "execution_count": null,
   "metadata": {
    "collapsed": true
   },
   "outputs": [],
   "source": [
    "    child_local_context = {\n",
    "        'keyword': 'class',\n",
    "        'class_name': name,\n",
    "        'class_variables': {},\n",
    "        'class_functions': {}\n",
    "    }\n",
    "    for child in rbnode.value:\n",
    "        visit_class_rbnode(child, global_context, child_local_context)\n",
    "        \n",
    "    class_obj = {\n",
    "        'type': 'class',\n",
    "        'name': name,\n",
    "        'upper_classes': upper_classes,\n",
    "        'class_variables': child_local_context['class_variables'],\n",
    "        'class_functions': child_local_context['class_functions'],\n",
    "    }\n",
    "    "
   ]
  },
  {
   "cell_type": "code",
   "execution_count": null,
   "metadata": {
    "collapsed": true
   },
   "outputs": [],
   "source": []
  },
  {
   "cell_type": "code",
   "execution_count": null,
   "metadata": {
    "collapsed": true
   },
   "outputs": [],
   "source": [
    "def visit_class_rbnode(rbnode, global_context, local_context):\n",
    "    visitors = keyfilter(lambda key: key.startswith('visit_class_'), globals()) # should be defined once\n",
    "    visitor = visitors.get('visit_class_' + rbnode.type)\n",
    "    if visitor is None:\n",
    "        raise NotImplementedError(\n",
    "            'Class visitor not declared for type=\"{type}\", source=\"{source}\"'.format(\n",
    "                source=rbnode_to_exception(rbnode),\n",
    "                type=rbnode.type,\n",
    "                ))\n",
    "    ofnode = visitor(rbnode, global_context, local_context)\n",
    "    return ofnode\n"
   ]
  },
  {
   "cell_type": "code",
   "execution_count": null,
   "metadata": {
    "collapsed": true
   },
   "outputs": [],
   "source": [
    "def visit_class_endl(rbnode, global_context, local_context):\n",
    "    return"
   ]
  },
  {
   "cell_type": "code",
   "execution_count": null,
   "metadata": {
    "collapsed": true
   },
   "outputs": [],
   "source": [
    "def visit_class_assignment(rbnode, global_context, local_context):\n",
    "    assert local_context['keyword'] == 'class'\n",
    "    \n",
    "    assert rbnode.operator == ''\n",
    "    \n",
    "    assert rbnode.target.type == 'name'\n",
    "    target = rbnode.target.value\n",
    "    \n",
    "    if target == 'column':\n",
    "        if rbnode.value.type == 'atomtrailers':\n",
    "            assert len(rbnode.value.value) == 2\n",
    "\n",
    "            assert rbnode.value.value[0].type == 'name'\n",
    "            column_name = rbnode.value.value[0].value\n",
    "\n",
    "            call_node = rbnode.value.value[1]\n",
    "            assert call_node.type == 'call', local_context\n",
    "            column_args = {}\n",
    "            for arg in call_node.value:\n",
    "                assert arg.target.type == 'name', local_context\n",
    "                column_args[arg.target.value] = arg.value.to_python()\n",
    "\n",
    "            assert 'column' not in local_context['class_variables'].keys(), local_context\n",
    "            local_context['class_variables']['column'] = column_name\n",
    "            local_context['class_variables']['column_args'] = column_args\n",
    "\n",
    "        elif rbnode.value.type == 'name':\n",
    "            column_name = rbnode.value.value\n",
    "\n",
    "            assert 'column' not in local_context['class_variables'].keys(), local_context\n",
    "            local_context['class_variables']['column'] = column_name\n",
    "        else:\n",
    "            raise ValueError(local_context)\n",
    "    \n",
    "    elif target == 'entity_class':\n",
    "        assert rbnode.value.type == 'name'\n",
    "        \n",
    "        assert 'entity_class' not in local_context, local_context\n",
    "        local_context['entity_class'] = rbnode.value.value\n",
    "              \n",
    "    elif target == 'label':\n",
    "        assert rbnode.value.type == 'unicode_string'\n",
    "        \n",
    "        assert 'label' not in local_context, local_context\n",
    "        local_context['label'] = rbnode.value.value\n",
    "        \n",
    "    elif target == 'start_date':\n",
    "        date = parse_date(rbnode.value, global_context, local_context)\n",
    "        \n",
    "        assert 'start_date' not in local_context, local_context\n",
    "        local_context['start_date'] = date\n",
    "         \n",
    "    elif target == 'stop_date':\n",
    "        date = parse_date(rbnode.value, global_context, local_context)\n",
    "\n",
    "        assert 'stop_date' not in local_context, local_context\n",
    "        local_context['stop_date'] = date\n",
    "        \n",
    "    elif target == 'url':\n",
    "        assert rbnode.value.type == 'string', local_context\n",
    "        \n",
    "        assert 'url' not in local_context, local_context\n",
    "        local_context['url'] = rbnode.value.value\n",
    "        \n",
    "             \n",
    "    elif target == 'operation':\n",
    "        assert rbnode.value.type == 'string', local_context\n",
    "        \n",
    "        assert 'operation' not in local_context, local_context\n",
    "        local_context['operation'] = rbnode.value.value\n",
    "        \n",
    "             \n",
    "    elif target == 'variable':\n",
    "        assert rbnode.value.type == 'name', local_context\n",
    "        \n",
    "        assert 'variable' not in local_context, local_context\n",
    "        local_context['variable'] = rbnode.value.value\n",
    "        \n",
    "    else:            \n",
    "        raise ValueError((local_context), target)\n",
    "            \n"
   ]
  },
  {
   "cell_type": "code",
   "execution_count": null,
   "metadata": {
    "collapsed": true
   },
   "outputs": [],
   "source": [
    "def visit_class_def(rbnode, global_context, local_context):\n",
    "    name = rbnode.name\n",
    "    \n",
    "    decorators = rbnode.decorators\n",
    "    \n",
    "    assert len(rbnode.arguments) == 3, local_context\n",
    "    assert rbnode.arguments[0].type == 'def_argument'\n",
    "    assert rbnode.arguments[0].target.type == 'name'\n",
    "    assert rbnode.arguments[0].target.value == 'self'\n",
    "    assert not rbnode.arguments[0].value\n",
    "    assert rbnode.arguments[1].type == 'def_argument'\n",
    "    assert rbnode.arguments[1].target.type == 'name'\n",
    "    assert rbnode.arguments[1].target.value == 'simulation'\n",
    "    assert not rbnode.arguments[1].value\n",
    "    assert rbnode.arguments[2].type == 'def_argument'\n",
    "    assert rbnode.arguments[2].target.type == 'name'\n",
    "    assert rbnode.arguments[2].target.value == 'period'\n",
    "    assert not rbnode.arguments[2].value   \n",
    "    \n",
    "    instructions = rbnode.value # unmodified (TODO)\n",
    "    \n",
    "    assert name not in local_context['class_functions'], local_context\n",
    "    local_context['class_functions'][name] = {\n",
    "        'decorators': decorators,\n",
    "        'instructions': value\n",
    "    }"
   ]
  },
  {
   "cell_type": "code",
   "execution_count": null,
   "metadata": {
    "collapsed": true
   },
   "outputs": [],
   "source": []
  }
 ],
 "metadata": {
  "kernelspec": {
   "display_name": "Python 2",
   "language": "python",
   "name": "python2"
  },
  "language_info": {
   "codemirror_mode": {
    "name": "ipython",
    "version": 2
   },
   "file_extension": ".py",
   "mimetype": "text/x-python",
   "name": "python",
   "nbconvert_exporter": "python",
   "pygments_lexer": "ipython2",
   "version": "2.7.6"
  }
 },
 "nbformat": 4,
 "nbformat_minor": 0
}
