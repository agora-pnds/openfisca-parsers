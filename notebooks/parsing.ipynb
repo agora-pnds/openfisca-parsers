{
 "cells": [
  {
   "cell_type": "code",
   "execution_count": 1,
   "metadata": {
    "collapsed": false
   },
   "outputs": [],
   "source": [
    "import argparse\n",
    "import logging\n",
    "import os\n",
    "import sys\n",
    "\n",
    "from redbaron import RedBaron\n",
    "\n",
    "from toolz.curried import keyfilter"
   ]
  },
  {
   "cell_type": "markdown",
   "metadata": {},
   "source": [
    "# Loading"
   ]
  },
  {
   "cell_type": "code",
   "execution_count": 2,
   "metadata": {
    "collapsed": false
   },
   "outputs": [],
   "source": [
    "source_dir = '../../openfisca-france/openfisca_france/model/'\n",
    "filenames = []\n",
    "\n",
    "for root, directories, files in os.walk(source_dir):    \n",
    "    for filename in files:\n",
    "        complete_filename = os.path.join(root, filename)\n",
    "        assert complete_filename[:len(source_dir)] == source_dir\n",
    "        complete_filename = complete_filename[len(source_dir):]\n",
    "        filenames.append(complete_filename)\n",
    "#filenames"
   ]
  },
  {
   "cell_type": "code",
   "execution_count": 3,
   "metadata": {
    "collapsed": false
   },
   "outputs": [],
   "source": [
    "filenames.remove('base.py')\n",
    "filenames.remove('datatrees.py')\n",
    "filenames.remove('prelevements_obligatoires/prelevements_sociaux/cotisations_sociales/preprocessing.py')"
   ]
  },
  {
   "cell_type": "code",
   "execution_count": 4,
   "metadata": {
    "collapsed": false
   },
   "outputs": [],
   "source": [
    "redbaron_trees = {}\n",
    "for filename in filenames:\n",
    "    with open(source_dir + filename) as source_file:\n",
    "        source_code = source_file.read()\n",
    "    red = RedBaron(source_code)\n",
    "    redbaron_trees[filename] = red\n",
    "    #print('{} parsed'.format(filename))"
   ]
  },
  {
   "cell_type": "markdown",
   "metadata": {},
   "source": [
    "# Custom exceptions"
   ]
  },
  {
   "cell_type": "code",
   "execution_count": 5,
   "metadata": {
    "collapsed": true
   },
   "outputs": [],
   "source": [
    "angry_rbnode = None\n",
    "angry_state = None"
   ]
  },
  {
   "cell_type": "code",
   "execution_count": 6,
   "metadata": {
    "collapsed": false
   },
   "outputs": [],
   "source": [
    "class ParsingException(Exception):\n",
    "    def __init__(self, message, rbnode, s):\n",
    "        global angry_rbnode\n",
    "        global angry_state\n",
    "\n",
    "        angry_rbnode = rbnode\n",
    "        angry_state = s\n",
    "\n",
    "        super(ParsingException, self).__init__(message)"
   ]
  },
  {
   "cell_type": "code",
   "execution_count": 7,
   "metadata": {
    "collapsed": true
   },
   "outputs": [],
   "source": [
    "class NotImplementedParsingError(ParsingException):\n",
    "    pass"
   ]
  },
  {
   "cell_type": "code",
   "execution_count": 8,
   "metadata": {
    "collapsed": true
   },
   "outputs": [],
   "source": [
    "class AssertionParsingError(ParsingException):\n",
    "    pass"
   ]
  },
  {
   "cell_type": "code",
   "execution_count": 121,
   "metadata": {
    "collapsed": true
   },
   "outputs": [],
   "source": [
    "def my_assert(cond, rbnode, s, message=''):\n",
    "    if cond:\n",
    "        return\n",
    "    \n",
    "    raise AssertionParsingError(message, rbnode, s)"
   ]
  },
  {
   "cell_type": "markdown",
   "metadata": {},
   "source": [
    "# Helpers"
   ]
  },
  {
   "cell_type": "code",
   "execution_count": 10,
   "metadata": {
    "collapsed": false
   },
   "outputs": [],
   "source": [
    "import unicodedata\n",
    "\n",
    "def rbnode_to_exception(rbnode):\n",
    "    '''Because exceptions are ASCII only in python2'''\n",
    "    str1 = rbnode.dumps() # unicode string wrongly known as 'str'\n",
    "    str2 = unicode(str1, 'utf-8') # unicode string as unicode\n",
    "    str3 = unicodedata.normalize('NFKD', str2).encode('ascii', 'ignore') # ignore special chars\n",
    "    \n",
    "    return str3"
   ]
  },
  {
   "cell_type": "code",
   "execution_count": 11,
   "metadata": {
    "collapsed": true
   },
   "outputs": [],
   "source": [
    "def parse_date(atomtrailer, s):\n",
    "    my_assert(atomtrailer.type == 'atomtrailers', atomtrailer, s)\n",
    "    my_assert(len(atomtrailer.value) == 2, atomtrailer, s)\n",
    "    my_assert(atomtrailer.value[0].type == 'name', atomtrailer, s)\n",
    "    my_assert(atomtrailer.value[0].value == 'date', atomtrailer, s)\n",
    "    call_node = atomtrailer.value[1]\n",
    "    my_assert(call_node.type == 'call', atomtrailer, s)\n",
    "    my_assert(len(call_node.value) == 3, atomtrailer, s)\n",
    "    my_assert(call_node.value[0].type == 'call_argument', atomtrailer, s)\n",
    "    my_assert(not call_node.value[0].target, atomtrailer, s)\n",
    "    my_assert(call_node.value[0].value.type == 'int', atomtrailer, s)\n",
    "    year = call_node.value[0].value.value\n",
    "    my_assert(call_node.value[1].type == 'call_argument', atomtrailer, s)\n",
    "    my_assert(not call_node.value[1].target, atomtrailer, s)\n",
    "    my_assert(call_node.value[1].value.type == 'int', atomtrailer, s)\n",
    "    month = call_node.value[1].value.value\n",
    "    my_assert(call_node.value[2].type == 'call_argument', atomtrailer, s)\n",
    "    my_assert(not call_node.value[2].target, atomtrailer, s)\n",
    "    my_assert(call_node.value[2].value.type == 'int', atomtrailer, s)\n",
    "    day = call_node.value[2].value.value\n",
    "    \n",
    "    return {'year': year, 'month': month, 'day': day}"
   ]
  },
  {
   "cell_type": "code",
   "execution_count": 12,
   "metadata": {
    "collapsed": true
   },
   "outputs": [],
   "source": [
    "def parse_enum(atomtrailers, s):\n",
    "    my_assert(atomtrailers.type == 'atomtrailers', rbnode, s)\n",
    "    \n",
    "    my_assert(len(atomtrailers.value) == 2, rbnode, s)\n",
    "    my_assert(atomtrailers.value[0].type == 'name', rbnode, s)\n",
    "    my_assert(atomtrailers.value[0].value == 'Enum', rbnode, s)\n",
    "    \n",
    "    call_node = atomtrailers.value[1]\n",
    "    my_assert(call_node.type == 'call', rbnode, s)\n",
    "    my_assert(len(call_node.value) == 1, rbnode, s)\n",
    "    my_assert(call_node.value[0].type == 'call_argument', rbnode, s)\n",
    "    my_assert(not call_node.value[0].target, rbnode, s)\n",
    "    \n",
    "    enum_list_node = call_node.value[0].value\n",
    "    my_assert(enum_list_node.type == 'list', rbnode, s)\n",
    "    \n",
    "    enum_list = []\n",
    "    for element in enum_list_node.value:\n",
    "        my_assert(element.type == 'unicode_string', rbnode, s)\n",
    "        enum_list.append(element.value)\n",
    "        \n",
    "    return enum_list"
   ]
  },
  {
   "cell_type": "code",
   "execution_count": 13,
   "metadata": {
    "collapsed": true
   },
   "outputs": [],
   "source": [
    "def parse_parameter_path(atomtrailers, first_index, s):\n",
    "    my_assert(atomtrailers.type == 'atomtrailers', atomtrailers, s)\n",
    "    \n",
    "    parameter_path = []\n",
    "    for i in range(first_index, len(atomtrailers.value)):\n",
    "        path_component = atomtrailers.value[i]\n",
    "        my_assert(path_component.type == 'name', rbnode, s)\n",
    "        parameter_path.append(path_component.value)\n",
    "\n",
    "    return parameter_path"
   ]
  },
  {
   "cell_type": "markdown",
   "metadata": {},
   "source": [
    "# Module traversal functions"
   ]
  },
  {
   "cell_type": "code",
   "execution_count": 20,
   "metadata": {
    "collapsed": false
   },
   "outputs": [],
   "source": [
    "def visit_module_rbnode(rbnode, s):\n",
    "    visitors = keyfilter(lambda key: key.startswith('visit_module_'), globals()) # should be defined once\n",
    "    visitor = visitors.get('visit_module_' + rbnode.type)\n",
    "    if visitor is None:\n",
    "        raise NotImplementedParsingError(\n",
    "            'Module visitor not declared for type=\"{type}\"'.format(\n",
    "                type=rbnode.type,\n",
    "                ), rbnode, s)\n",
    "    ofnode = visitor(rbnode, s)\n",
    "    return ofnode"
   ]
  },
  {
   "cell_type": "code",
   "execution_count": 21,
   "metadata": {
    "collapsed": true
   },
   "outputs": [],
   "source": [
    "def visit_module_endl(rbnode, s):\n",
    "    return"
   ]
  },
  {
   "cell_type": "code",
   "execution_count": 22,
   "metadata": {
    "collapsed": true
   },
   "outputs": [],
   "source": [
    "def visit_module_from_import(rbnode, s):\n",
    "    # unmodified (TODO)\n",
    "    s['imports'].append(rbnode)"
   ]
  },
  {
   "cell_type": "code",
   "execution_count": 23,
   "metadata": {
    "collapsed": true
   },
   "outputs": [],
   "source": [
    "def visit_module_import(rbnode, s):\n",
    "    # unmodified (TODO)\n",
    "    s['imports'].append(rbnode)"
   ]
  },
  {
   "cell_type": "code",
   "execution_count": 24,
   "metadata": {
    "collapsed": true
   },
   "outputs": [],
   "source": [
    "def visit_module_comment(rbnode, s):\n",
    "    # comments are discarded for the moment (TODO)\n",
    "    return"
   ]
  },
  {
   "cell_type": "code",
   "execution_count": 25,
   "metadata": {
    "collapsed": false
   },
   "outputs": [],
   "source": [
    "def visit_module_class(rbnode, s):\n",
    "    name = rbnode.name\n",
    "    \n",
    "    if name == 'rsa_ressource_calculator':\n",
    "        return\n",
    "    \n",
    "    my_assert(not rbnode.decorators, rbnode, s)\n",
    "    \n",
    "    upper_classes = []\n",
    "    for upper_class in rbnode.inherit_from:\n",
    "        my_assert(upper_class.type == 'name', rbnode, s)\n",
    "        upper_classes.append(upper_class.value)\n",
    "        \n",
    "    class_obj = {\n",
    "        'type': 'class',\n",
    "        'name': name,\n",
    "        'upper_classes': upper_classes,\n",
    "        'content': rbnode.value,\n",
    "        }\n",
    "\n",
    "    s['classes'].append(class_obj)"
   ]
  },
  {
   "cell_type": "code",
   "execution_count": 26,
   "metadata": {
    "collapsed": true
   },
   "outputs": [],
   "source": [
    "def visit_module_def(rbnode, s):\n",
    "    if rbnode.name in ['_revprim', 'preload_zone_apl']:\n",
    "        return\n",
    "    \n",
    "    # unmodified (TODO)\n",
    "    s['auxiliary_functions'].append(rbnode)"
   ]
  },
  {
   "cell_type": "code",
   "execution_count": 27,
   "metadata": {
    "collapsed": false
   },
   "outputs": [],
   "source": [
    "def visit_module_assignment(rbnode, s):\n",
    "    my_assert(rbnode.operator == '', rbnode, s)\n",
    "    \n",
    "    my_assert(rbnode.target.type == 'name', rbnode, s)\n",
    "    name = rbnode.target.value\n",
    "    \n",
    "    if name in ['zone_apl_by_depcom']:\n",
    "        return\n",
    "    \n",
    "    if rbnode.value.type == 'int':\n",
    "        s['constants'].append({\n",
    "                'name': name,\n",
    "                'type': 'int',\n",
    "                'value': rbnode.value.value,\n",
    "            })\n",
    "        return\n",
    "    \n",
    "    if rbnode.value.type == 'name':\n",
    "        my_assert(rbnode.value.value == 'None', rbnode, s)\n",
    "        s['constants'].append({\n",
    "                'name': name,\n",
    "                'type': 'None',\n",
    "                'value': None,\n",
    "            })\n",
    "        return\n",
    "    \n",
    "    if rbnode.value.type == 'atomtrailers':\n",
    "        atomtrailers = rbnode.value\n",
    "\n",
    "        my_assert(atomtrailers.value[0].type == 'name', rbnode, s)\n",
    "        function_name = atomtrailers.value[0].value\n",
    "        if function_name == 'Enum':\n",
    "            enum_list = parse_enum(atomtrailers, s)\n",
    "\n",
    "            s['enums'].append({\n",
    "                'name': name,\n",
    "                'enum_list': enum_list,\n",
    "            })\n",
    "            return\n",
    "\n",
    "        if function_name == 'logging':\n",
    "            # ignore logging\n",
    "            return\n",
    "\n",
    "        raise ParsingException('Unknown atomtrailers', rbnode, s)\n",
    "\n",
    "    raise ParsingException('Unknown type', rbnode, s)\n"
   ]
  },
  {
   "cell_type": "markdown",
   "metadata": {
    "collapsed": true
   },
   "source": [
    "# Module parsing"
   ]
  },
  {
   "cell_type": "code",
   "execution_count": 29,
   "metadata": {
    "collapsed": false
   },
   "outputs": [],
   "source": [
    "parsed_modules = {}\n",
    "\n",
    "for name in filenames:\n",
    "    #print('Visiting ' + name)\n",
    "    red = redbaron_trees[name]\n",
    "    \n",
    "\n",
    "    \n",
    "    s = {\n",
    "        'module_name': name,\n",
    "        'imports': [],\n",
    "        'classes': [],\n",
    "        'enums': [],\n",
    "        'auxiliary_functions': [],\n",
    "        'constants': [],\n",
    "        }\n",
    "    \n",
    "    for rbnode in red:\n",
    "        visit_module_rbnode(rbnode, s)\n",
    "        \n",
    "    parsed_modules[name] = {\n",
    "        'imports': s['imports'],\n",
    "        'classes': s['classes'],\n",
    "        'enums': s['enums'],\n",
    "        'auxiliary_functions': s['auxiliary_functions'],\n",
    "        'constants': s['constants'],\n",
    "    }"
   ]
  },
  {
   "cell_type": "markdown",
   "metadata": {},
   "source": [
    "# Class traversal functions"
   ]
  },
  {
   "cell_type": "code",
   "execution_count": 30,
   "metadata": {
    "collapsed": true
   },
   "outputs": [],
   "source": [
    "def visit_class_rbnode(rbnode, s):\n",
    "    visitors = keyfilter(lambda key: key.startswith('visit_class_'), globals()) # should be defined once\n",
    "    visitor = visitors.get('visit_class_' + rbnode.type)\n",
    "    if visitor is None:\n",
    "        raise NotImplementedParsingError(\n",
    "            'Class visitor not declared for type=\"{type}\"'.format(\n",
    "                type=rbnode.type,\n",
    "                ), rbnode, s)\n",
    "    ofnode = visitor(rbnode, s)\n",
    "    return ofnode"
   ]
  },
  {
   "cell_type": "code",
   "execution_count": 31,
   "metadata": {
    "collapsed": true
   },
   "outputs": [],
   "source": [
    "def visit_class_endl(rbnode, s):\n",
    "    return"
   ]
  },
  {
   "cell_type": "code",
   "execution_count": 32,
   "metadata": {
    "collapsed": true
   },
   "outputs": [],
   "source": [
    "def visit_class_assignment(rbnode, s):\n",
    "    my_assert(rbnode.operator == '', rbnode, s)\n",
    "    \n",
    "    my_assert(rbnode.target.type == 'name', rbnode, s)\n",
    "    target = rbnode.target.value\n",
    "    \n",
    "    if target == 'column':\n",
    "        if rbnode.value.type == 'atomtrailers':\n",
    "            my_assert(len(rbnode.value.value) == 2, rbnode, s)\n",
    "\n",
    "            my_assert(rbnode.value.value[0].type == 'name', rbnode, s)\n",
    "            column_name = rbnode.value.value[0].value\n",
    "\n",
    "            call_node = rbnode.value.value[1]\n",
    "            my_assert(call_node.type == 'call', rbnode, s)\n",
    "            column_args = {}\n",
    "            for arg in call_node.value:\n",
    "                my_assert(arg.target.type == 'name', rbnode, s)\n",
    "                column_args[arg.target.value] = arg.value\n",
    "\n",
    "            my_assert('column' not in s['class_variables'].keys(), rbnode, s)\n",
    "            s['class_variables']['column'] = column_name\n",
    "            s['class_variables']['column_args'] = column_args\n",
    "\n",
    "        elif rbnode.value.type == 'name':\n",
    "            column_name = rbnode.value.value\n",
    "\n",
    "            my_assert('column' not in s['class_variables'].keys(), rbnode, s)\n",
    "            s['class_variables']['column'] = column_name\n",
    "        else:\n",
    "            raise NotImplementedParsingError('Unknown type', rbnode, s)\n",
    "    \n",
    "    elif target == 'entity_class':\n",
    "        my_assert(rbnode.value.type == 'name', rbnode, s)\n",
    "        \n",
    "        my_assert('entity_class' not in s, rbnode, s)\n",
    "        s['entity_class'] = rbnode.value.value\n",
    "              \n",
    "    elif target == 'label':\n",
    "        # can be unicode_string or string_chain ! (TODO)\n",
    "        # my_assert(rbnode.value.type == 'unicode_string', rbnode, s)\n",
    "        \n",
    "        my_assert('label' not in s, rbnode, s)\n",
    "        s['label'] = rbnode.value\n",
    "        \n",
    "    elif target == 'start_date':\n",
    "        date = parse_date(rbnode.value, s)\n",
    "        \n",
    "        my_assert('start_date' not in s, rbnode, s)\n",
    "        s['start_date'] = date\n",
    "         \n",
    "    elif target == 'stop_date':\n",
    "        date = parse_date(rbnode.value, s)\n",
    "\n",
    "        my_assert('stop_date' not in s, rbnode, s)\n",
    "        s['stop_date'] = date\n",
    "        \n",
    "    elif target == 'url':\n",
    "        # can be a tuple, see revnet (TODO)\n",
    "        # my_assert(rbnode.value.type in ['string', 'unicode_string'], rbnode, s)\n",
    "        \n",
    "        my_assert('url' not in s, rbnode, s)\n",
    "        s['url'] = rbnode.value.value\n",
    "        \n",
    "             \n",
    "    elif target == 'operation':\n",
    "        my_assert(rbnode.value.type == 'string', rbnode, s)\n",
    "        \n",
    "        my_assert('operation' not in s, rbnode, s)\n",
    "        s['operation'] = rbnode.value.value\n",
    "        \n",
    "             \n",
    "    elif target == 'variable':\n",
    "        my_assert(rbnode.value.type == 'name', rbnode, s)\n",
    "        \n",
    "        my_assert('variable' not in s, rbnode, s)\n",
    "        s['variable'] = rbnode.value.value\n",
    "              \n",
    "    elif target == 'cerfa_field':\n",
    "        # my_assert(rbnode.value.type == 'unicode_string', rbnode, s)\n",
    "        # can be a unicode string or a dict\n",
    "        \n",
    "        my_assert('cerfa_field' not in s, rbnode, s)\n",
    "        s['cerfa_field'] = rbnode.value\n",
    "                \n",
    "    elif target == 'is_permanent':\n",
    "        my_assert(rbnode.value.type == 'name', rbnode, s)\n",
    "        my_assert(rbnode.value.value in ['True', 'False'], rbnode, s)        \n",
    "        \n",
    "        my_assert('is_permanent' not in s, rbnode, s)\n",
    "        s['is_permanent'] = rbnode.value.value == 'True'\n",
    "    \n",
    "    elif target == 'base_function':\n",
    "        my_assert(rbnode.value.type == 'name', rbnode, s)\n",
    "        \n",
    "        my_assert('base_function' not in s, rbnode, s)\n",
    "        s['base_function'] = rbnode.value.value\n",
    "              \n",
    "    elif target == 'calculate_output':\n",
    "        my_assert(rbnode.value.type == 'name', rbnode, s)\n",
    "        \n",
    "        my_assert('calculate_output' not in s, rbnode, s)\n",
    "        s['calculate_output'] = rbnode.value.value\n",
    "              \n",
    "    elif target == 'set_input':\n",
    "        my_assert(rbnode.value.type == 'name', rbnode, s)\n",
    "        \n",
    "        my_assert('set_input' not in s, rbnode, s)\n",
    "        s['set_input'] = rbnode.value.value\n",
    "        \n",
    "    elif target == 'role':\n",
    "        my_assert(rbnode.value.type == 'name', rbnode, s)\n",
    "        \n",
    "        my_assert('role' not in s, rbnode, s)\n",
    "        s['role'] = rbnode.value.value\n",
    "              \n",
    "\n",
    "    else:            \n",
    "        raise NotImplementedParsingError('Unknown class variable {}'.format(target), rbnode, s)\n",
    "            \n"
   ]
  },
  {
   "cell_type": "code",
   "execution_count": 33,
   "metadata": {
    "collapsed": true
   },
   "outputs": [],
   "source": [
    "def visit_class_def(rbnode, s):\n",
    "    name = rbnode.name\n",
    "    \n",
    "    decorators = rbnode.decorators\n",
    "\n",
    "    arguments = []\n",
    "    for arg in rbnode.arguments:\n",
    "        my_assert(arg.type == 'def_argument', rbnode, s)\n",
    "        my_assert(arg.target.type == 'name', rbnode, s)\n",
    "        arguments.append(arg.target.value)\n",
    "        my_assert(not arg.value, rbnode, s)\n",
    "    \n",
    "    instructions = rbnode.value # unmodified (TODO)\n",
    "    \n",
    "    my_assert(name not in s['class_functions'], rbnode, s)\n",
    "    s['class_functions'][name] = {\n",
    "        'arguments': arguments,\n",
    "        'decorators': decorators,\n",
    "        'instructions': instructions,\n",
    "    }"
   ]
  },
  {
   "cell_type": "code",
   "execution_count": 34,
   "metadata": {
    "collapsed": true
   },
   "outputs": [],
   "source": [
    "def visit_class_comment(rbnode, s):\n",
    "    # ignored (TODO)\n",
    "    return"
   ]
  },
  {
   "cell_type": "code",
   "execution_count": 35,
   "metadata": {
    "collapsed": true
   },
   "outputs": [],
   "source": [
    "def visit_class_string(rbnode, s):\n",
    "    # ignored (TODO)\n",
    "    return"
   ]
  },
  {
   "cell_type": "markdown",
   "metadata": {},
   "source": [
    "# Class parsing"
   ]
  },
  {
   "cell_type": "code",
   "execution_count": 38,
   "metadata": {
    "collapsed": false
   },
   "outputs": [],
   "source": [
    "parsed_classes = {}\n",
    "\n",
    "for module_name, module in parsed_modules.items():\n",
    "    # print('Visiting module {} to parse its classes.'.format(module_name))\n",
    "    \n",
    "    parsed_classes[module_name] = {\n",
    "        'parsed_classes': {},\n",
    "    }\n",
    "    \n",
    "    for cl in module['classes']:\n",
    "        class_name = cl['name']\n",
    "        # print('Visiting class {}'.format(class_name))\n",
    "        \n",
    "        s = {\n",
    "            'keyword': 'class',\n",
    "            'class_name': name,\n",
    "            'class_variables': {},\n",
    "            'class_functions': {},\n",
    "            }\n",
    "    \n",
    "        for rbnode in cl['content']:\n",
    "            visit_class_rbnode(rbnode, s)\n",
    "\n",
    "        parsed_classes[module_name]['parsed_classes'][class_name] = {\n",
    "            'class_variables': s['class_variables'],\n",
    "            'class_functions': s['class_functions'],\n",
    "            }"
   ]
  },
  {
   "cell_type": "markdown",
   "metadata": {},
   "source": [
    "# Function traversal visitors"
   ]
  },
  {
   "cell_type": "code",
   "execution_count": 127,
   "metadata": {
    "collapsed": true
   },
   "outputs": [],
   "source": [
    "def visit_function_rbnode(rbnode, s):\n",
    "    visitors = keyfilter(lambda key: key.startswith('visit_function_'), globals()) # should be defined once\n",
    "    visitor = visitors.get('visit_function_' + rbnode.type)\n",
    "    if visitor is None:\n",
    "        raise NotImplementedParsingError(\n",
    "            'Function visitor not declared for type=\"{type}\"'.format(\n",
    "                type=rbnode.type,\n",
    "                ), rbnode, s)\n",
    "    ofnode = visitor(rbnode, s)\n",
    "    return ofnode"
   ]
  },
  {
   "cell_type": "code",
   "execution_count": 128,
   "metadata": {
    "collapsed": true
   },
   "outputs": [],
   "source": [
    "def visit_function_endl(rbnode, s):\n",
    "    return"
   ]
  },
  {
   "cell_type": "code",
   "execution_count": 129,
   "metadata": {
    "collapsed": false
   },
   "outputs": [],
   "source": [
    "def visit_function_assignment(rbnode, s):\n",
    "    my_assert(s['keyword'] == 'function', rbnode, s)\n",
    "    \n",
    "    my_assert(rbnode.target.type == 'name', rbnode, s)\n",
    "    name = rbnode.target.value\n",
    "    \n",
    "    child_state = {\n",
    "        'keyword': 'expression',\n",
    "        'local_variables': s['local_variables'],\n",
    "    }\n",
    "    visit_function_rbnode(rbnode.value, child_state)\n",
    "    s['local_variables'][name] = s['var_tmp']"
   ]
  },
  {
   "cell_type": "code",
   "execution_count": 130,
   "metadata": {
    "collapsed": false
   },
   "outputs": [],
   "source": [
    "def visit_function_atomtrailers(rbnode, s):\n",
    "    my_assert(s['keyword'] == 'expression', rbnode, s, s['keyword'])\n",
    "\n",
    "    child_state = {\n",
    "        'keyword': 'expression',\n",
    "        'local_variables': s['local_variables'],\n",
    "    }\n",
    "    visit_function_rbnode(rbnode.value[0], child_state)\n",
    "    base = child_state['var_tmp']\n",
    "\n",
    "    for i in range(1, len(rbnode.value)):\n",
    "        child_state = {\n",
    "            'keyword': 'atomtrailers',\n",
    "            'local_variables': s['local_variables'],\n",
    "            'atomtrailers_base': base,\n",
    "        }\n",
    "        visit_function_rbnode(rbnode.value[i], child_state)\n",
    "        base = child_state['atomtrailers_new_base']\n",
    "        \n",
    "    s['var_tmp'] = new_atomtrailers_tmp"
   ]
  },
  {
   "cell_type": "code",
   "execution_count": 131,
   "metadata": {
    "collapsed": true
   },
   "outputs": [],
   "source": [
    "def visit_function_binary_operator(rbnode, s):\n",
    "    my_assert(s['keyword'] == 'expression', rbnode, s)\n",
    "\n",
    "    op = rbnode.value\n",
    "    \n",
    "    parsed_args = []\n",
    "    for arg in [rbnode.first, rbnode.second]:\n",
    "        child_state = {\n",
    "            'keyword': 'expression',\n",
    "            'local_variables': s['local_variables'],\n",
    "        }\n",
    "        visit_function_rbnode(arg, child_state)\n",
    "        parsed_arg = child_state['var_tmp']\n",
    "        parsed_args.append(parsed_arg)\n",
    "\n",
    "    var_tmp = {\n",
    "        'type': 'value', \n",
    "        'nodetype': 'arithmetic_operation', \n",
    "        'op': op, \n",
    "        'operands': parsed_args,\n",
    "    }\n",
    "    s['var_tmp'] = var_tmp\n",
    "    return\n"
   ]
  },
  {
   "cell_type": "code",
   "execution_count": 148,
   "metadata": {
    "collapsed": true
   },
   "outputs": [],
   "source": [
    "def visit_function_name(rbnode, s):\n",
    "    name = rbnode.value\n",
    "\n",
    "    if s['keyword'] == 'expression':\n",
    "        if name in s['local_variables']:\n",
    "            s['var_tmp'] = s['local_variables'][name]\n",
    "            return\n",
    "\n",
    "        if name == 'period': \n",
    "            var_tmp = {\n",
    "                'type': 'period', \n",
    "                'nodetype': 'builtin-period'\n",
    "            }\n",
    "            s['var_tmp'] = var_tmp\n",
    "            return\n",
    "\n",
    "        if name == 'simulation':\n",
    "            var_tmp = {\n",
    "                'type': 'simulation'\n",
    "            }\n",
    "            s['var_tmp'] = var_tmp\n",
    "            return\n",
    "\n",
    "        if name == 'self':\n",
    "            var_tmp = {\n",
    "                'type': 'self'\n",
    "            }\n",
    "            s['var_tmp'] = var_tmp\n",
    "            return        \n",
    "\n",
    "        if name in ['round', 'sum', 'not_']:\n",
    "            var_tmp = {\n",
    "                'type': 'arithmetic_operation_tmp', \n",
    "                'nodetype': 'arithmetic_operation_tmp', \n",
    "                'op': name, \n",
    "            }\n",
    "            s['var_tmp'] = var_tmp\n",
    "            return\n",
    "\n",
    "        if name in ['CHEF', 'CONJ', 'CREF', 'ENFS', 'PAC1', 'PAC2', 'PAC3', 'PART', 'PREF', 'VOUS']:\n",
    "            var_tmp = {\n",
    "                'type': 'role',\n",
    "                'name': name,\n",
    "            }\n",
    "            s['var_tmp'] = var_tmp\n",
    "            return\n",
    "\n",
    "        if name == 'apply_thresholds':\n",
    "            # to deal with specifically (TODO)\n",
    "            var_tmp = {\n",
    "                'type': 'apply_thresholds_tmp', \n",
    "                'nodetype': 'apply_thresholds', \n",
    "            }\n",
    "            s['var_tmp'] = var_tmp\n",
    "            return\n",
    "\n",
    "        raise NotImplementedParsingError('Unknown name {}'.format(name), rbnode, s)\n",
    "        \n",
    "    if s['keyword'] == 'atomtrailers':\n",
    "        base = s['atomtrailers_base']\n",
    "        \n",
    "        if base['type'] == 'period':\n",
    "            period_op = name\n",
    "            if period_op in ['this_month', 'n_2']:\n",
    "                var_tmp = {\n",
    "                    'type': 'period', \n",
    "                    'nodetype': 'period-operation', \n",
    "                    'operator': period_op, \n",
    "                    'operands': [base],\n",
    "                }\n",
    "                s['atomtrailers_new_base'] = var_tmp\n",
    "                return\n",
    "\n",
    "            if period_op == 'start':\n",
    "                var_tmp = {\n",
    "                    'type': 'instant', \n",
    "                    'nodetype': 'period-to-instant', \n",
    "                    'operator': 'start', \n",
    "                    'operands': [base],\n",
    "                }\n",
    "                s['atomtrailers_new_base'] = var_tmp\n",
    "                return\n",
    "\n",
    "            raise NotImplementedParsingError('Unknown period operand', rbnode, s)\n",
    "            \n",
    "        if base['type'] == 'simulation':\n",
    "            simulation_op = name\n",
    "            if simulation_op in ['calculate', 'compute', 'calculate_add']:\n",
    "                var_tmp = {\n",
    "                    'type': 'simulation_operation_tmp', \n",
    "                    'nodetype': 'simulation_operation_tmp', \n",
    "                    'operator': simulation_op, \n",
    "                }\n",
    "                s['atomtrailers_new_base'] = var_tmp\n",
    "                return\n",
    "\n",
    "            if simulation_op == 'legislation_at':\n",
    "                var_tmp = {\n",
    "                    'type': 'legislation_at_tmp', \n",
    "                    'nodetype': 'legislation_at_tmp', \n",
    "                }\n",
    "                s['atomtrailers_new_base'] = var_tmp\n",
    "                return\n",
    "\n",
    "            raise NotImplementedParsingError('Unknown simulation op.', rbnode, s)\n",
    "\n",
    "        if base['type'] == 'self':\n",
    "            self_op = name\n",
    "            if self_op in ['split_by_roles', 'sum_by_entity', 'filter_role']:\n",
    "                var_tmp = {\n",
    "                    'type': 'self_operation_tmp', \n",
    "                    'nodetype': 'self_operation_tmp', \n",
    "                    'operator': self_op, \n",
    "                }\n",
    "                s['atomtrailers_new_base'] = var_tmp\n",
    "                return\n",
    "\n",
    "            raise NotImplementedParsingError('Unknown self op {}.'.format(self_op), rbnode, s)\n",
    "\n",
    "        if base['type'] == 'parameter':\n",
    "            var_tmp = {\n",
    "                'type': 'value',\n",
    "                'nodetype': 'parameter',\n",
    "                'instant': base['instant'], \n",
    "                'path': base['path'] + [name],\n",
    "            }\n",
    "            s['atomtrailers_new_base'] = var_tmp\n",
    "            return\n",
    "  \n",
    "        if base['type'] == 'apply_thresholds_tmp':\n",
    "            var_tmp = {\n",
    "                'type': 'value', \n",
    "                'nodetype': 'apply_thresholds', \n",
    "                'rbnode': rbnode,\n",
    "            }\n",
    "            s['atomtrailers_new_base'] = var_tmp\n",
    "            return\n",
    "\n",
    "        raise NotImplementedParsingError('Unknown name {}'.format(name), rbnode, s)\n",
    "\n",
    "    raise NotImplementedParsingError('Wrong keyword {}'.format(name), rbnode, s)\n"
   ]
  },
  {
   "cell_type": "code",
   "execution_count": 133,
   "metadata": {
    "collapsed": true
   },
   "outputs": [],
   "source": [
    "def visit_function_int(rbnode, s):\n",
    "    my_assert(s['keyword'] == 'expression', rbnode, s)\n",
    "\n",
    "    var_tmp = {\n",
    "        'type': 'value', \n",
    "        'nodetype': 'int', \n",
    "        'value': rbnode.value, \n",
    "    }\n",
    "    s['var_tmp'] = var_tmp\n",
    "    return\n"
   ]
  },
  {
   "cell_type": "code",
   "execution_count": 134,
   "metadata": {
    "collapsed": true
   },
   "outputs": [],
   "source": [
    "def visit_function_float(rbnode, s):\n",
    "    my_assert(s['keyword'] == 'expression', rbnode, s)\n",
    "\n",
    "    var_tmp = {\n",
    "        'type': 'value', \n",
    "        'nodetype': 'float', \n",
    "        'value': rbnode.value, \n",
    "    }\n",
    "    s['var_tmp'] = var_tmp\n",
    "    return\n"
   ]
  },
  {
   "cell_type": "code",
   "execution_count": 135,
   "metadata": {
    "collapsed": true
   },
   "outputs": [],
   "source": [
    "def visit_function_associative_parenthesis(rbnode, s):\n",
    "    my_assert(s['keyword'] == 'expression', rbnode, s)\n",
    "\n",
    "    visit_function_rbnode(rbnode.value, s)"
   ]
  },
  {
   "cell_type": "code",
   "execution_count": 136,
   "metadata": {
    "collapsed": false
   },
   "outputs": [],
   "source": [
    "def visit_function_return(rbnode, s):\n",
    "    my_assert(s['keyword'] == 'function', rbnode, s)\n",
    "\n",
    "    my_assert(rbnode.value.type == 'tuple', rbnode, s)\n",
    "    \n",
    "    returned_tuple = rbnode.value\n",
    "    my_assert(len(returned_tuple.value) ==  2, rbnode, s)\n",
    "\n",
    "    rb_period = returned_tuple.value[0]\n",
    "    child_state = {\n",
    "        'keyword': 'expression',\n",
    "        'local_variables': s['local_variables'],\n",
    "    }\n",
    "    visit_function_rbnode(rb_period, child_state)\n",
    "    returned_period = child_state['var_tmp']\n",
    "    my_assert(returned_period['type'] == 'period', rbnode, s)\n",
    "\n",
    "    rb_value = returned_tuple.value[1]\n",
    "    child_state = {\n",
    "        'keyword': 'expression',\n",
    "        'local_variables': s['local_variables'],\n",
    "    }\n",
    "    visit_function_rbnode(rb_value, child_state)\n",
    "    returned_value = child_state['var_tmp']\n",
    "    my_assert(returned_value['type'] == 'value', rbnode, s)\n",
    "\n",
    "    returned_value = {\n",
    "        'type': 'return', \n",
    "        'nodetype': 'return', \n",
    "        'period': returned_period, \n",
    "        'value': returned_value,\n",
    "    }\n",
    "    my_assert('return' not in s, rbnode, s)\n",
    "    s['return'] = returned_value\n",
    "    return\n",
    "\n",
    "    \n"
   ]
  },
  {
   "cell_type": "code",
   "execution_count": 137,
   "metadata": {
    "collapsed": true
   },
   "outputs": [],
   "source": [
    "def visit_function_comparison(rbnode, s):\n",
    "    my_assert(s['keyword'] == 'expression', rbnode, s)\n",
    "\n",
    "    my_assert(rbnode.value.type == \"comparison_operator\", rbnode, s)\n",
    "    op = rbnode.value.first\n",
    "    my_assert(not rbnode.value.second, rbnode, s)\n",
    "\n",
    "    parsed_args = []\n",
    "    for arg in [rbnode.first, rbnode.second]:\n",
    "        child_state = {\n",
    "            'keyword': 'expression',\n",
    "            'local_variables': s['local_variables'],\n",
    "        }\n",
    "        visit_function_rbnode(arg, child_state)\n",
    "        parsed_arg = child_state['var_tmp']\n",
    "        parsed_args.append(parsed_arg)\n",
    "\n",
    "    var_tmp = {\n",
    "        'type': 'value', \n",
    "        'nodetype': 'arithmetic_operation', \n",
    "        'op': op, \n",
    "        'operands': parsed_args,\n",
    "    }\n",
    "    s['var_tmp'] = var_tmp\n",
    "    return\n"
   ]
  },
  {
   "cell_type": "code",
   "execution_count": 138,
   "metadata": {
    "collapsed": true
   },
   "outputs": [],
   "source": [
    "def visit_function_comment(rbnode, s):\n",
    "    # ignored (TODO)\n",
    "    return"
   ]
  },
  {
   "cell_type": "code",
   "execution_count": 139,
   "metadata": {
    "collapsed": true
   },
   "outputs": [],
   "source": [
    "def visit_function_list(rbnode, s):\n",
    "    my_assert(s['keyword'] == 'expression', rbnode, s)\n",
    "\n",
    "    # ignored (TODO)\n",
    "    var_tmp = {\n",
    "        'type': 'list', \n",
    "        'nodetype': 'list', \n",
    "        'rbnode': rbnode,\n",
    "    }\n",
    "    s['var_tmp'] = var_tmp\n",
    "    return\n"
   ]
  },
  {
   "cell_type": "code",
   "execution_count": 140,
   "metadata": {
    "collapsed": true
   },
   "outputs": [],
   "source": [
    "def visit_function_for(rbnode, s):\n",
    "    my_assert(s['keyword'] == 'function', rbnode, s)\n",
    "\n",
    "    # ignored (TODO)\n",
    "    return"
   ]
  },
  {
   "cell_type": "code",
   "execution_count": 141,
   "metadata": {
    "collapsed": true
   },
   "outputs": [],
   "source": [
    "def visit_function_string(rbnode, s):\n",
    "    # ignored (TODO)\n",
    "    return"
   ]
  },
  {
   "cell_type": "code",
   "execution_count": 142,
   "metadata": {
    "collapsed": true
   },
   "outputs": [],
   "source": [
    "def visit_function_call(rbnode, s):\n",
    "    my_assert(s['keyword'] == 'atomtrailers', rbnode, s)\n",
    "    \n",
    "    base = s['atomtrailers_base']\n",
    "    \n",
    "    arg_list = []\n",
    "    arg_dict = {}\n",
    "    \n",
    "    no_target = True\n",
    "    args = rbnode.value\n",
    "    for arg in args:\n",
    "        my_assert(arg.type == 'call_argument', rbnode, s)\n",
    "        if arg.target:\n",
    "            no_target = False\n",
    "            my_assert(arg.type == 'call_argument', rbnode, s)\n",
    "            my_assert(arg.target.type == 'name', rbnode, s)\n",
    "            target = arg.target.value\n",
    "        else:\n",
    "            my_assert(no_target, rbnode, s)\n",
    "            my_assert(arg.value.type == 'name', rbnode, s)\n",
    "\n",
    "        child_state = {\n",
    "            'keyword': 'expression',\n",
    "            'local_variables': s['local_variables'],\n",
    "        }\n",
    "        visit_function_rbnode(arg.value, child_state)\n",
    "        value = child_state['var_tmp']\n",
    "        \n",
    "        if arg.target:\n",
    "            arg_dict[target] = value\n",
    "        else:\n",
    "            arg_list.append(value)\n",
    "\n",
    "    tmp_args = {\n",
    "        'arg_list': arg_list, \n",
    "        'arg_dict': arg_dict, \n",
    "    }\n",
    "    s['tmp_args'] = tmp_args\n",
    "\n",
    "    return"
   ]
  },
  {
   "cell_type": "markdown",
   "metadata": {},
   "source": [
    "# Function parsing"
   ]
  },
  {
   "cell_type": "code",
   "execution_count": 149,
   "metadata": {
    "collapsed": false,
    "scrolled": true
   },
   "outputs": [
    {
     "name": "stdout",
     "output_type": "stream",
     "text": [
      "Visiting module caracteristiques_socio_demographiques/demographie.py\n",
      "Visiting class handicap to parse its function(s)\n",
      "Visiting class caseS to parse its function(s)\n",
      "Visiting class quifam to parse its function(s)\n",
      "Visiting class caseG to parse its function(s)\n",
      "Visiting class caseW to parse its function(s)\n",
      "Visiting class maries to parse its function(s)\n",
      "Visiting function function\n"
     ]
    },
    {
     "ename": "AssertionParsingError",
     "evalue": "",
     "output_type": "error",
     "traceback": [
      "\u001b[0;31m--------------------------------------------------\u001b[0m",
      "\u001b[0;31mAssertionParsingError\u001b[0mTraceback (most recent call last)",
      "\u001b[0;32m<ipython-input-149-ce7f63c730be>\u001b[0m in \u001b[0;36m<module>\u001b[0;34m()\u001b[0m\n\u001b[1;32m     27\u001b[0m \u001b[0;34m\u001b[0m\u001b[0m\n\u001b[1;32m     28\u001b[0m             \u001b[0;32mfor\u001b[0m \u001b[0mrbnode\u001b[0m \u001b[0;32min\u001b[0m \u001b[0mfn\u001b[0m\u001b[0;34m[\u001b[0m\u001b[0;34m'instructions'\u001b[0m\u001b[0;34m]\u001b[0m\u001b[0;34m:\u001b[0m\u001b[0;34m\u001b[0m\u001b[0m\n\u001b[0;32m---> 29\u001b[0;31m                 \u001b[0mvisit_function_rbnode\u001b[0m\u001b[0;34m(\u001b[0m\u001b[0mrbnode\u001b[0m\u001b[0;34m,\u001b[0m \u001b[0ms\u001b[0m\u001b[0;34m)\u001b[0m\u001b[0;34m\u001b[0m\u001b[0m\n\u001b[0m\u001b[1;32m     30\u001b[0m \u001b[0;34m\u001b[0m\u001b[0m\n\u001b[1;32m     31\u001b[0m             parsed_functions[module_name]['classes'][class_name]['parsed_functions'][function_name] = {\n",
      "\u001b[0;32m<ipython-input-127-27ae3bd33c2a>\u001b[0m in \u001b[0;36mvisit_function_rbnode\u001b[0;34m(rbnode, s)\u001b[0m\n\u001b[1;32m      7\u001b[0m                 \u001b[0mtype\u001b[0m\u001b[0;34m=\u001b[0m\u001b[0mrbnode\u001b[0m\u001b[0;34m.\u001b[0m\u001b[0mtype\u001b[0m\u001b[0;34m,\u001b[0m\u001b[0;34m\u001b[0m\u001b[0m\n\u001b[1;32m      8\u001b[0m                 ), rbnode, s)\n\u001b[0;32m----> 9\u001b[0;31m     \u001b[0mofnode\u001b[0m \u001b[0;34m=\u001b[0m \u001b[0mvisitor\u001b[0m\u001b[0;34m(\u001b[0m\u001b[0mrbnode\u001b[0m\u001b[0;34m,\u001b[0m \u001b[0ms\u001b[0m\u001b[0;34m)\u001b[0m\u001b[0;34m\u001b[0m\u001b[0m\n\u001b[0m\u001b[1;32m     10\u001b[0m     \u001b[0;32mreturn\u001b[0m \u001b[0mofnode\u001b[0m\u001b[0;34m\u001b[0m\u001b[0m\n",
      "\u001b[0;32m<ipython-input-129-0d2f0d2bf1d4>\u001b[0m in \u001b[0;36mvisit_function_assignment\u001b[0;34m(rbnode, s)\u001b[0m\n\u001b[1;32m      9\u001b[0m         \u001b[0;34m'local_variables'\u001b[0m\u001b[0;34m:\u001b[0m \u001b[0ms\u001b[0m\u001b[0;34m[\u001b[0m\u001b[0;34m'local_variables'\u001b[0m\u001b[0;34m]\u001b[0m\u001b[0;34m,\u001b[0m\u001b[0;34m\u001b[0m\u001b[0m\n\u001b[1;32m     10\u001b[0m     }\n\u001b[0;32m---> 11\u001b[0;31m     \u001b[0mvisit_function_rbnode\u001b[0m\u001b[0;34m(\u001b[0m\u001b[0mrbnode\u001b[0m\u001b[0;34m.\u001b[0m\u001b[0mvalue\u001b[0m\u001b[0;34m,\u001b[0m \u001b[0mchild_state\u001b[0m\u001b[0;34m)\u001b[0m\u001b[0;34m\u001b[0m\u001b[0m\n\u001b[0m\u001b[1;32m     12\u001b[0m     \u001b[0ms\u001b[0m\u001b[0;34m[\u001b[0m\u001b[0;34m'local_variables'\u001b[0m\u001b[0;34m]\u001b[0m\u001b[0;34m[\u001b[0m\u001b[0mname\u001b[0m\u001b[0;34m]\u001b[0m \u001b[0;34m=\u001b[0m \u001b[0ms\u001b[0m\u001b[0;34m[\u001b[0m\u001b[0;34m'var_tmp'\u001b[0m\u001b[0;34m]\u001b[0m\u001b[0;34m\u001b[0m\u001b[0m\n",
      "\u001b[0;32m<ipython-input-127-27ae3bd33c2a>\u001b[0m in \u001b[0;36mvisit_function_rbnode\u001b[0;34m(rbnode, s)\u001b[0m\n\u001b[1;32m      7\u001b[0m                 \u001b[0mtype\u001b[0m\u001b[0;34m=\u001b[0m\u001b[0mrbnode\u001b[0m\u001b[0;34m.\u001b[0m\u001b[0mtype\u001b[0m\u001b[0;34m,\u001b[0m\u001b[0;34m\u001b[0m\u001b[0m\n\u001b[1;32m      8\u001b[0m                 ), rbnode, s)\n\u001b[0;32m----> 9\u001b[0;31m     \u001b[0mofnode\u001b[0m \u001b[0;34m=\u001b[0m \u001b[0mvisitor\u001b[0m\u001b[0;34m(\u001b[0m\u001b[0mrbnode\u001b[0m\u001b[0;34m,\u001b[0m \u001b[0ms\u001b[0m\u001b[0;34m)\u001b[0m\u001b[0;34m\u001b[0m\u001b[0m\n\u001b[0m\u001b[1;32m     10\u001b[0m     \u001b[0;32mreturn\u001b[0m \u001b[0mofnode\u001b[0m\u001b[0;34m\u001b[0m\u001b[0m\n",
      "\u001b[0;32m<ipython-input-130-132b1416ba21>\u001b[0m in \u001b[0;36mvisit_function_atomtrailers\u001b[0;34m(rbnode, s)\u001b[0m\n\u001b[1;32m     15\u001b[0m             \u001b[0;34m'atomtrailers_base'\u001b[0m\u001b[0;34m:\u001b[0m \u001b[0mbase\u001b[0m\u001b[0;34m,\u001b[0m\u001b[0;34m\u001b[0m\u001b[0m\n\u001b[1;32m     16\u001b[0m         }\n\u001b[0;32m---> 17\u001b[0;31m         \u001b[0mvisit_function_rbnode\u001b[0m\u001b[0;34m(\u001b[0m\u001b[0mrbnode\u001b[0m\u001b[0;34m.\u001b[0m\u001b[0mvalue\u001b[0m\u001b[0;34m[\u001b[0m\u001b[0mi\u001b[0m\u001b[0;34m]\u001b[0m\u001b[0;34m,\u001b[0m \u001b[0mchild_state\u001b[0m\u001b[0;34m)\u001b[0m\u001b[0;34m\u001b[0m\u001b[0m\n\u001b[0m\u001b[1;32m     18\u001b[0m         \u001b[0mbase\u001b[0m \u001b[0;34m=\u001b[0m \u001b[0mchild_state\u001b[0m\u001b[0;34m[\u001b[0m\u001b[0;34m'atomtrailers_new_base'\u001b[0m\u001b[0;34m]\u001b[0m\u001b[0;34m\u001b[0m\u001b[0m\n\u001b[1;32m     19\u001b[0m \u001b[0;34m\u001b[0m\u001b[0m\n",
      "\u001b[0;32m<ipython-input-127-27ae3bd33c2a>\u001b[0m in \u001b[0;36mvisit_function_rbnode\u001b[0;34m(rbnode, s)\u001b[0m\n\u001b[1;32m      7\u001b[0m                 \u001b[0mtype\u001b[0m\u001b[0;34m=\u001b[0m\u001b[0mrbnode\u001b[0m\u001b[0;34m.\u001b[0m\u001b[0mtype\u001b[0m\u001b[0;34m,\u001b[0m\u001b[0;34m\u001b[0m\u001b[0m\n\u001b[1;32m      8\u001b[0m                 ), rbnode, s)\n\u001b[0;32m----> 9\u001b[0;31m     \u001b[0mofnode\u001b[0m \u001b[0;34m=\u001b[0m \u001b[0mvisitor\u001b[0m\u001b[0;34m(\u001b[0m\u001b[0mrbnode\u001b[0m\u001b[0;34m,\u001b[0m \u001b[0ms\u001b[0m\u001b[0;34m)\u001b[0m\u001b[0;34m\u001b[0m\u001b[0m\n\u001b[0m\u001b[1;32m     10\u001b[0m     \u001b[0;32mreturn\u001b[0m \u001b[0mofnode\u001b[0m\u001b[0;34m\u001b[0m\u001b[0m\n",
      "\u001b[0;32m<ipython-input-142-b03325fdc5a0>\u001b[0m in \u001b[0;36mvisit_function_call\u001b[0;34m(rbnode, s)\u001b[0m\n\u001b[1;32m      1\u001b[0m \u001b[0;32mdef\u001b[0m \u001b[0mvisit_function_call\u001b[0m\u001b[0;34m(\u001b[0m\u001b[0mrbnode\u001b[0m\u001b[0;34m,\u001b[0m \u001b[0ms\u001b[0m\u001b[0;34m)\u001b[0m\u001b[0;34m:\u001b[0m\u001b[0;34m\u001b[0m\u001b[0m\n\u001b[0;32m----> 2\u001b[0;31m     \u001b[0mmy_assert\u001b[0m\u001b[0;34m(\u001b[0m\u001b[0ms\u001b[0m\u001b[0;34m[\u001b[0m\u001b[0;34m'keyword'\u001b[0m\u001b[0;34m]\u001b[0m \u001b[0;34m==\u001b[0m \u001b[0;34m'call'\u001b[0m\u001b[0;34m,\u001b[0m \u001b[0mrbnode\u001b[0m\u001b[0;34m,\u001b[0m \u001b[0ms\u001b[0m\u001b[0;34m)\u001b[0m\u001b[0;34m\u001b[0m\u001b[0m\n\u001b[0m\u001b[1;32m      3\u001b[0m \u001b[0;34m\u001b[0m\u001b[0m\n\u001b[1;32m      4\u001b[0m     \u001b[0marg_list\u001b[0m \u001b[0;34m=\u001b[0m \u001b[0;34m[\u001b[0m\u001b[0;34m]\u001b[0m\u001b[0;34m\u001b[0m\u001b[0m\n\u001b[1;32m      5\u001b[0m     \u001b[0marg_dict\u001b[0m \u001b[0;34m=\u001b[0m \u001b[0;34m{\u001b[0m\u001b[0;34m}\u001b[0m\u001b[0;34m\u001b[0m\u001b[0m\n",
      "\u001b[0;32m<ipython-input-121-a3a25e98c988>\u001b[0m in \u001b[0;36mmy_assert\u001b[0;34m(cond, rbnode, s, message)\u001b[0m\n\u001b[1;32m      3\u001b[0m         \u001b[0;32mreturn\u001b[0m\u001b[0;34m\u001b[0m\u001b[0m\n\u001b[1;32m      4\u001b[0m \u001b[0;34m\u001b[0m\u001b[0m\n\u001b[0;32m----> 5\u001b[0;31m     \u001b[0;32mraise\u001b[0m \u001b[0mAssertionParsingError\u001b[0m\u001b[0;34m(\u001b[0m\u001b[0mmessage\u001b[0m\u001b[0;34m,\u001b[0m \u001b[0mrbnode\u001b[0m\u001b[0;34m,\u001b[0m \u001b[0ms\u001b[0m\u001b[0;34m)\u001b[0m\u001b[0;34m\u001b[0m\u001b[0m\n\u001b[0m",
      "\u001b[0;31mAssertionParsingError\u001b[0m: "
     ]
    }
   ],
   "source": [
    "parsed_functions = {}\n",
    "\n",
    "for module_name, module in parsed_classes.items():\n",
    "    print('Visiting module {}'.format(module_name))\n",
    "    \n",
    "    parsed_functions[module_name] = {\n",
    "        'classes': {},\n",
    "    }\n",
    "    \n",
    "    for class_name, cl in module['parsed_classes'].items():\n",
    "        print('Visiting class {} to parse its function(s)'.format(class_name))\n",
    "        \n",
    "        parsed_functions[module_name]['classes'][class_name] = {\n",
    "            'parsed_functions': {},\n",
    "        }\n",
    "        \n",
    "        for function_name, fn in cl['class_functions'].items():\n",
    "            print('Visiting function {}'.format(function_name))\n",
    "            \n",
    "            s = {\n",
    "                'keyword': 'function',\n",
    "                'module_name': module_name,\n",
    "                'class_name': class_name,\n",
    "                'function_name': function_name,\n",
    "                'local_variables': {},\n",
    "            }\n",
    "            \n",
    "            for rbnode in fn['instructions']:\n",
    "                visit_function_rbnode(rbnode, s)\n",
    "\n",
    "            parsed_functions[module_name]['classes'][class_name]['parsed_functions'][function_name] = {\n",
    "                'return': s['return'],\n",
    "                }\n"
   ]
  },
  {
   "cell_type": "code",
   "execution_count": 150,
   "metadata": {
    "collapsed": false
   },
   "outputs": [
    {
     "data": {
      "text/html": [
       "<div class=\"highlight\" style=\"background: #f8f8f8\"><pre style=\"line-height: 125%\"><span></span>(<span style=\"color: #BA2121\">&#39;statut_marital&#39;</span>, period)\n",
       "</pre></div>\n"
      ],
      "text/plain": [
       "<CallNode path=[34, 'value', 8, 'value', 5, 'value', 'value', 3], \"('statut_marital...)\" 139870415716592, on AtomtrailersNode 139870415721808>"
      ]
     },
     "execution_count": 150,
     "metadata": {},
     "output_type": "execute_result"
    }
   ],
   "source": [
    "angry_rbnode"
   ]
  },
  {
   "cell_type": "code",
   "execution_count": 94,
   "metadata": {
    "collapsed": false
   },
   "outputs": [
    {
     "name": "stdout",
     "output_type": "stream",
     "text": [
      "\u001b[38;5;148mCallNode\u001b[39m\u001b[38;5;197m(\u001b[39m\u001b[38;5;197m)\u001b[39m\n",
      "\u001b[38;5;15m  \u001b[39m\u001b[38;5;242m# identifiers: call, call_, callnode\u001b[39m\n",
      "\u001b[38;5;15m  \u001b[39m\u001b[38;5;15mvalue\u001b[39m\u001b[38;5;15m \u001b[39m\u001b[38;5;197m->\u001b[39m\n",
      "\u001b[38;5;15m    \u001b[39m\u001b[38;5;197m*\u001b[39m\u001b[38;5;81m CallArgumentNode\u001b[39m\u001b[38;5;197m(\u001b[39m\u001b[38;5;197m)\u001b[39m\n",
      "\u001b[38;5;15m        \u001b[39m\u001b[38;5;242m# identifiers: call_argument, call_argument_, callargument, callargumentnode\u001b[39m\n",
      "\u001b[38;5;15m        \u001b[39m\u001b[38;5;15mtarget\u001b[39m\u001b[38;5;15m \u001b[39m\u001b[38;5;197m->\u001b[39m\n",
      "\u001b[38;5;15m          \u001b[39m\u001b[38;5;186mNone\u001b[39m\n",
      "\u001b[38;5;15m        \u001b[39m\u001b[38;5;15mvalue\u001b[39m\u001b[38;5;15m \u001b[39m\u001b[38;5;197m->\u001b[39m\n",
      "\u001b[38;5;15m          \u001b[39m\u001b[38;5;148mNameNode\u001b[39m\u001b[38;5;197m(\u001b[39m\u001b[38;5;197m)\u001b[39m\u001b[38;5;15m \u001b[39m\u001b[38;5;197m...\u001b[39m\n",
      "\u001b[38;5;15m    \u001b[39m\u001b[38;5;197m*\u001b[39m\u001b[38;5;81m CallArgumentNode\u001b[39m\u001b[38;5;197m(\u001b[39m\u001b[38;5;197m)\u001b[39m\n",
      "\u001b[38;5;15m        \u001b[39m\u001b[38;5;242m# identifiers: call_argument, call_argument_, callargument, callargumentnode\u001b[39m\n",
      "\u001b[38;5;15m        \u001b[39m\u001b[38;5;15mtarget\u001b[39m\u001b[38;5;15m \u001b[39m\u001b[38;5;197m->\u001b[39m\n",
      "\u001b[38;5;15m          \u001b[39m\u001b[38;5;148mNameNode\u001b[39m\u001b[38;5;197m(\u001b[39m\u001b[38;5;197m)\u001b[39m\u001b[38;5;15m \u001b[39m\u001b[38;5;197m...\u001b[39m\n",
      "\u001b[38;5;15m        \u001b[39m\u001b[38;5;15mvalue\u001b[39m\u001b[38;5;15m \u001b[39m\u001b[38;5;197m->\u001b[39m\n",
      "\u001b[38;5;15m          \u001b[39m\u001b[38;5;148mNameNode\u001b[39m\u001b[38;5;197m(\u001b[39m\u001b[38;5;197m)\u001b[39m\u001b[38;5;15m \u001b[39m\u001b[38;5;197m...\u001b[39m\n"
     ]
    }
   ],
   "source": [
    "angry_rbnode.help()"
   ]
  },
  {
   "cell_type": "code",
   "execution_count": 151,
   "metadata": {
    "collapsed": false
   },
   "outputs": [
    {
     "data": {
      "text/plain": [
       "{'atomtrailers_base': {'nodetype': 'simulation_operation_tmp',\n",
       "  'operator': 'compute',\n",
       "  'type': 'simulation_operation_tmp'},\n",
       " 'keyword': 'atomtrailers',\n",
       " 'local_variables': {}}"
      ]
     },
     "execution_count": 151,
     "metadata": {},
     "output_type": "execute_result"
    }
   ],
   "source": [
    "angry_state"
   ]
  },
  {
   "cell_type": "code",
   "execution_count": null,
   "metadata": {
    "collapsed": false
   },
   "outputs": [],
   "source": []
  },
  {
   "cell_type": "code",
   "execution_count": null,
   "metadata": {
    "collapsed": true
   },
   "outputs": [],
   "source": []
  },
  {
   "cell_type": "code",
   "execution_count": null,
   "metadata": {
    "collapsed": false
   },
   "outputs": [],
   "source": [
    "parsed_classes['prelevements_obligatoires/impot_revenu/reductions_impot.py']['parsed_classes'][\n",
    "    'patnat']['class_functions']['function_20100101_20101231']['instructions']"
   ]
  }
 ],
 "metadata": {
  "kernelspec": {
   "display_name": "Python 3",
   "language": "python",
   "name": "python3"
  },
  "language_info": {
   "codemirror_mode": {
    "name": "ipython",
    "version": 3
   },
   "file_extension": ".py",
   "mimetype": "text/x-python",
   "name": "python",
   "nbconvert_exporter": "python",
   "pygments_lexer": "ipython3",
   "version": "3.5.2"
  }
 },
 "nbformat": 4,
 "nbformat_minor": 0
}
